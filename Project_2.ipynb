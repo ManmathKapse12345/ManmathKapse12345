{
 "cells": [
  {
   "cell_type": "markdown",
   "id": "601b1c91",
   "metadata": {},
   "source": [
    "# __Step 1__ #"
   ]
  },
  {
   "cell_type": "code",
   "execution_count": null,
   "id": "30cc2840",
   "metadata": {},
   "outputs": [],
   "source": [
    "import pandas as pd"
   ]
  },
  {
   "cell_type": "code",
   "execution_count": null,
   "id": "a6597a05",
   "metadata": {},
   "outputs": [],
   "source": [
    "df=pd.read_csv('HR_comma_sep.csv')\n",
    "df.head()"
   ]
  },
  {
   "cell_type": "code",
   "execution_count": null,
   "id": "9281ccea",
   "metadata": {},
   "outputs": [],
   "source": [
    "df.info()"
   ]
  },
  {
   "cell_type": "code",
   "execution_count": null,
   "id": "d028afe5",
   "metadata": {},
   "outputs": [],
   "source": [
    "for column in df.columns:\n",
    "    print('Column : ',column)\n",
    "    print(df[column].value_counts())\n",
    "    print('\\n')"
   ]
  },
  {
   "cell_type": "code",
   "execution_count": null,
   "id": "9aa2e4e0",
   "metadata": {},
   "outputs": [],
   "source": [
    "df.isnull().sum()"
   ]
  },
  {
   "cell_type": "markdown",
   "id": "4ab1fd8e",
   "metadata": {},
   "source": [
    "There is no null value in the datasets"
   ]
  },
  {
   "cell_type": "markdown",
   "id": "36bc2600",
   "metadata": {},
   "source": [
    "# __Step 2__"
   ]
  },
  {
   "cell_type": "code",
   "execution_count": null,
   "id": "de57fd9b",
   "metadata": {},
   "outputs": [],
   "source": [
    "corr_matrix=df.select_dtypes(include='number').corr()\n",
    "corr_matrix"
   ]
  },
  {
   "cell_type": "code",
   "execution_count": null,
   "id": "b152d587",
   "metadata": {},
   "outputs": [],
   "source": [
    "import matplotlib.pyplot as plt\n",
    "import seaborn as sns\n",
    "sns.heatmap(corr_matrix,annot=True,cmap='coolwarm',fmt='.2f')\n",
    "plt.show()"
   ]
  },
  {
   "cell_type": "markdown",
   "id": "16c8244e",
   "metadata": {},
   "source": [
    "## From the Above heatmap we can draw following Conclusions : ##\n",
    "1. Person with very low satisfaction level have left the company \n",
    "2. Person with more number of Project have more last evaluation and average monthly hours\n",
    "3. Person with more average monthly hours have more last evaluation"
   ]
  },
  {
   "cell_type": "code",
   "execution_count": null,
   "id": "f3e10253",
   "metadata": {},
   "outputs": [],
   "source": [
    "sns.distplot(df['satisfaction_level'])\n",
    "plt.title('Employee Satisfaction Level')\n",
    "plt.show()"
   ]
  },
  {
   "cell_type": "code",
   "execution_count": null,
   "id": "f8f16fcd",
   "metadata": {},
   "outputs": [],
   "source": [
    "sns.distplot(df['last_evaluation'])\n",
    "plt.title('Employee last evaluation')\n",
    "plt.show()"
   ]
  },
  {
   "cell_type": "code",
   "execution_count": null,
   "id": "bb715a4b",
   "metadata": {},
   "outputs": [],
   "source": [
    "sns.distplot(df['average_montly_hours'])\n",
    "plt.title('Employee average monthly hours')\n",
    "plt.show()"
   ]
  },
  {
   "cell_type": "code",
   "execution_count": null,
   "id": "ec8c9fcb",
   "metadata": {},
   "outputs": [],
   "source": [
    "sns.countplot(x='number_project',data=df,hue='left')"
   ]
  },
  {
   "cell_type": "markdown",
   "id": "692c4f01",
   "metadata": {},
   "source": [
    "# __Step 3__"
   ]
  },
  {
   "cell_type": "code",
   "execution_count": null,
   "id": "fb2e9cc0",
   "metadata": {},
   "outputs": [],
   "source": [
    "sns.scatterplot(data=df,x='satisfaction_level',y='last_evaluation',hue='left')"
   ]
  },
  {
   "cell_type": "code",
   "execution_count": null,
   "id": "f2dd36a2",
   "metadata": {},
   "outputs": [],
   "source": [
    "X=df[df['left']==1][['satisfaction_level','last_evaluation']]\n",
    "plt.scatter(x=X['satisfaction_level'],y=X['last_evaluation'])\n",
    "plt.xlabel('Satisfaction Level')\n",
    "plt.ylabel('Last_evaluation')\n",
    "plt.title('Scatter plot of employee based on satisfaction level and last evaluation')\n",
    "plt.show()"
   ]
  },
  {
   "cell_type": "code",
   "execution_count": null,
   "id": "78012801",
   "metadata": {},
   "outputs": [],
   "source": [
    "from sklearn.cluster import KMeans"
   ]
  },
  {
   "cell_type": "code",
   "execution_count": null,
   "id": "eeb728bb",
   "metadata": {},
   "outputs": [],
   "source": [
    "clustering_model=KMeans(n_clusters=3,init='k-means++',random_state=42)\n",
    "clustering_model.fit(X)"
   ]
  },
  {
   "cell_type": "code",
   "execution_count": null,
   "id": "2d032501",
   "metadata": {},
   "outputs": [],
   "source": [
    "label_for_left=clustering_model.predict(X)"
   ]
  },
  {
   "cell_type": "code",
   "execution_count": null,
   "id": "f0a1ce3a",
   "metadata": {},
   "outputs": [],
   "source": [
    "import numpy as np"
   ]
  },
  {
   "cell_type": "code",
   "execution_count": null,
   "id": "a301ba95",
   "metadata": {},
   "outputs": [],
   "source": [
    "plt.scatter(x=X[label_for_left==0]['satisfaction_level'],y=X[label_for_left==0]['last_evaluation'],c='red',label='Cluster 0')\n",
    "plt.scatter(x=X[label_for_left==1]['satisfaction_level'],y=X[label_for_left==1]['last_evaluation'],c='green',label='Cluster 1')\n",
    "plt.scatter(x=X[label_for_left==2]['satisfaction_level'],y=X[label_for_left==2]['last_evaluation'],c='blue',label='Cluster 2')\n",
    "plt.scatter(x=clustering_model.cluster_centers_[:,0],y=clustering_model.cluster_centers_[:,1],marker='o',c='yellow',label='Cluster Centres')\n",
    "plt.xlabel('Satisfaction Level')\n",
    "plt.ylabel('Last_evaluation')\n",
    "plt.title('Scatter plot of employee based on satisfaction level and last evaluation')\n",
    "plt.legend()\n",
    "plt.show()"
   ]
  },
  {
   "cell_type": "markdown",
   "id": "acdefcee",
   "metadata": {},
   "source": [
    "# __Step 4__"
   ]
  },
  {
   "cell_type": "code",
   "execution_count": null,
   "id": "31da5737",
   "metadata": {},
   "outputs": [],
   "source": [
    "numerical_columns=['satisfaction_level','last_evaluation','number_project','average_montly_hours','time_spend_company','Work_accident','left','promotion_last_5years']\n",
    "categorical_columns=['sales','salary']"
   ]
  },
  {
   "cell_type": "code",
   "execution_count": null,
   "id": "988b9855",
   "metadata": {},
   "outputs": [],
   "source": [
    "numerical_df=df[numerical_columns]"
   ]
  },
  {
   "cell_type": "code",
   "execution_count": null,
   "id": "2cdace1c",
   "metadata": {},
   "outputs": [],
   "source": [
    "categorical_df=df[categorical_columns]"
   ]
  },
  {
   "cell_type": "code",
   "execution_count": null,
   "id": "196e9c0d",
   "metadata": {},
   "outputs": [],
   "source": [
    "transformed_categorical_df=pd.get_dummies(categorical_df,prefix=['sales','salary'],drop_first=True)"
   ]
  },
  {
   "cell_type": "code",
   "execution_count": null,
   "id": "1b8c1fe7",
   "metadata": {},
   "outputs": [],
   "source": [
    "transformed_categorical_df=transformed_categorical_df.astype('int64')"
   ]
  },
  {
   "cell_type": "code",
   "execution_count": null,
   "id": "570ff4d7",
   "metadata": {},
   "outputs": [],
   "source": [
    "transformed_df=pd.concat([numerical_df,transformed_categorical_df],axis=1)"
   ]
  },
  {
   "cell_type": "code",
   "execution_count": null,
   "id": "9b66ee37",
   "metadata": {},
   "outputs": [],
   "source": [
    "transformed_df=transformed_df[transformed_df['left']==1]"
   ]
  },
  {
   "cell_type": "code",
   "execution_count": null,
   "id": "59ea56e2",
   "metadata": {},
   "outputs": [],
   "source": [
    "transformed_df['Left Types']=label_for_left"
   ]
  },
  {
   "cell_type": "code",
   "execution_count": null,
   "id": "66de3dcc",
   "metadata": {},
   "outputs": [],
   "source": [
    "X=transformed_df.drop(['Left Types'],axis=1)\n",
    "y=transformed_df['Left Types']"
   ]
  },
  {
   "cell_type": "code",
   "execution_count": null,
   "id": "1253ab5d",
   "metadata": {},
   "outputs": [],
   "source": [
    "from sklearn.model_selection import train_test_split"
   ]
  },
  {
   "cell_type": "code",
   "execution_count": null,
   "id": "1748017b",
   "metadata": {},
   "outputs": [],
   "source": [
    "X_train,X_test,y_train,y_test=train_test_split(X,y,test_size=0.2,stratify=y,random_state=123)"
   ]
  },
  {
   "cell_type": "code",
   "execution_count": null,
   "id": "1b5b0a65",
   "metadata": {},
   "outputs": [],
   "source": [
    "from imblearn.over_sampling import SMOTE"
   ]
  },
  {
   "cell_type": "code",
   "execution_count": null,
   "id": "ad3b311d",
   "metadata": {},
   "outputs": [],
   "source": [
    "resample_model=SMOTE()"
   ]
  },
  {
   "cell_type": "code",
   "execution_count": null,
   "id": "8451b267",
   "metadata": {},
   "outputs": [],
   "source": [
    "transformed_X_train,transformed_y_train=resample_model.fit_resample(X_train,y_train)"
   ]
  },
  {
   "cell_type": "code",
   "execution_count": null,
   "id": "44d74760",
   "metadata": {},
   "outputs": [],
   "source": [
    "plt.scatter(x=transformed_X_train[transformed_y_train==0]['satisfaction_level'],y=transformed_X_train[transformed_y_train==0]['last_evaluation'],c='red',label='Cluster 0')\n",
    "plt.scatter(x=transformed_X_train[transformed_y_train==1]['satisfaction_level'],y=transformed_X_train[transformed_y_train==1]['last_evaluation'],c='green',label='Cluster 1')\n",
    "plt.scatter(x=transformed_X_train[transformed_y_train==2]['satisfaction_level'],y=transformed_X_train[transformed_y_train==2]['last_evaluation'],c='blue',label='Cluster 2')\n",
    "plt.scatter(x=clustering_model.cluster_centers_[:,0],y=clustering_model.cluster_centers_[:,1],marker='o',c='yellow',label='Cluster Centres')\n",
    "plt.xlabel('Satisfaction Level')\n",
    "plt.ylabel('Last_evaluation')\n",
    "plt.title('Scatter plot of employee based on satisfaction level and last evaluation')\n",
    "plt.legend()\n",
    "plt.show()"
   ]
  },
  {
   "cell_type": "code",
   "execution_count": null,
   "id": "2ccb1426",
   "metadata": {},
   "outputs": [],
   "source": [
    "transformed_y_train.value_counts()"
   ]
  },
  {
   "cell_type": "code",
   "execution_count": null,
   "id": "990af948",
   "metadata": {},
   "outputs": [],
   "source": [
    "y_train.value_counts()"
   ]
  },
  {
   "cell_type": "markdown",
   "id": "810bef1c",
   "metadata": {},
   "source": [
    "# __Step 5__"
   ]
  },
  {
   "cell_type": "code",
   "execution_count": null,
   "id": "27fcbd19",
   "metadata": {},
   "outputs": [],
   "source": [
    "from sklearn.linear_model import LogisticRegression"
   ]
  },
  {
   "cell_type": "code",
   "execution_count": null,
   "id": "65b61d0d",
   "metadata": {},
   "outputs": [],
   "source": [
    "from sklearn.model_selection import KFold"
   ]
  },
  {
   "cell_type": "code",
   "execution_count": null,
   "id": "a936cd5e",
   "metadata": {},
   "outputs": [],
   "source": [
    "kfold=KFold(n_splits=5,shuffle=True,random_state=123)\n",
    "lr=LogisticRegression(multi_class='ovr',solver='liblinear')"
   ]
  },
  {
   "cell_type": "code",
   "execution_count": null,
   "id": "11243e7f",
   "metadata": {},
   "outputs": [],
   "source": [
    "from sklearn.model_selection import cross_val_score"
   ]
  },
  {
   "cell_type": "code",
   "execution_count": null,
   "id": "d0c5087d",
   "metadata": {},
   "outputs": [],
   "source": [
    "accuracy=cross_val_score(estimator=lr,X=transformed_X_train,y=transformed_y_train,scoring='neg_mean_absolute_percentage_error',cv=kfold,n_jobs=-1)"
   ]
  },
  {
   "cell_type": "code",
   "execution_count": null,
   "id": "2b8672f7",
   "metadata": {},
   "outputs": [],
   "source": [
    "accuracy"
   ]
  },
  {
   "cell_type": "code",
   "execution_count": null,
   "id": "7ac6d675",
   "metadata": {},
   "outputs": [],
   "source": [
    "accuracy.mean()"
   ]
  },
  {
   "cell_type": "code",
   "execution_count": null,
   "id": "dc7d364f",
   "metadata": {},
   "outputs": [],
   "source": [
    "from sklearn.metrics import classification_report"
   ]
  },
  {
   "cell_type": "code",
   "execution_count": null,
   "id": "2ffa1d7b",
   "metadata": {},
   "outputs": [],
   "source": [
    "lr.fit(transformed_X_train,transformed_y_train)"
   ]
  },
  {
   "cell_type": "code",
   "execution_count": null,
   "id": "ebb22e26",
   "metadata": {},
   "outputs": [],
   "source": [
    "y_pred=lr.predict(X_test)"
   ]
  },
  {
   "cell_type": "code",
   "execution_count": null,
   "id": "83980322",
   "metadata": {},
   "outputs": [],
   "source": [
    "print(classification_report(y_test,y_pred))"
   ]
  },
  {
   "cell_type": "code",
   "execution_count": null,
   "id": "3e0823a9",
   "metadata": {},
   "outputs": [],
   "source": [
    "from sklearn.ensemble import RandomForestClassifier"
   ]
  },
  {
   "cell_type": "code",
   "execution_count": null,
   "id": "7f042e3c",
   "metadata": {},
   "outputs": [],
   "source": [
    "rf=RandomForestClassifier(n_estimators=100,max_depth=5,random_state=123,n_jobs=-1)\n",
    "rf_accuracy=cross_val_score(estimator=rf,X=transformed_X_train,y=transformed_y_train,scoring='neg_mean_absolute_percentage_error',cv=kfold,n_jobs=-1)"
   ]
  },
  {
   "cell_type": "code",
   "execution_count": null,
   "id": "a7d2c085",
   "metadata": {},
   "outputs": [],
   "source": [
    "print(rf_accuracy)"
   ]
  },
  {
   "cell_type": "code",
   "execution_count": null,
   "id": "193728ef",
   "metadata": {},
   "outputs": [],
   "source": [
    "print(rf_accuracy.mean())"
   ]
  },
  {
   "cell_type": "code",
   "execution_count": null,
   "id": "b234ac5a",
   "metadata": {},
   "outputs": [],
   "source": [
    "rf.fit(transformed_X_train,transformed_y_train)"
   ]
  },
  {
   "cell_type": "code",
   "execution_count": null,
   "id": "34813eff",
   "metadata": {},
   "outputs": [],
   "source": [
    "y_pred=rf.predict(X_test)"
   ]
  },
  {
   "cell_type": "code",
   "execution_count": null,
   "id": "9147f796",
   "metadata": {},
   "outputs": [],
   "source": [
    "print(classification_report(y_test,y_pred))"
   ]
  },
  {
   "cell_type": "code",
   "execution_count": null,
   "id": "57001d37",
   "metadata": {},
   "outputs": [],
   "source": [
    "from sklearn.ensemble import GradientBoostingClassifier"
   ]
  },
  {
   "cell_type": "code",
   "execution_count": null,
   "id": "14e8d377",
   "metadata": {},
   "outputs": [],
   "source": [
    "gbc=GradientBoostingClassifier()"
   ]
  },
  {
   "cell_type": "code",
   "execution_count": null,
   "id": "e6e66c4c",
   "metadata": {},
   "outputs": [],
   "source": [
    "gbc_accuracy=cross_val_score(estimator=gbc,X=transformed_X_train,y=transformed_y_train,scoring='neg_mean_absolute_percentage_error',n_jobs=-1)\n",
    "print(gbc_accuracy)"
   ]
  },
  {
   "cell_type": "code",
   "execution_count": null,
   "id": "47778259",
   "metadata": {},
   "outputs": [],
   "source": [
    "print(gbc_accuracy.mean())"
   ]
  },
  {
   "cell_type": "code",
   "execution_count": null,
   "id": "2c55fef2",
   "metadata": {},
   "outputs": [],
   "source": [
    "gbc.fit(transformed_X_train,transformed_y_train)"
   ]
  },
  {
   "cell_type": "code",
   "execution_count": null,
   "id": "de9d2b1f",
   "metadata": {},
   "outputs": [],
   "source": [
    "y_pred=gbc.predict(X_test)\n",
    "print(classification_report(y_test,y_pred))"
   ]
  },
  {
   "cell_type": "markdown",
   "id": "a9b41b8c",
   "metadata": {},
   "source": [
    "# __Step 6__"
   ]
  },
  {
   "cell_type": "code",
   "execution_count": null,
   "id": "4cde3383",
   "metadata": {},
   "outputs": [],
   "source": [
    "from sklearn.metrics import roc_curve,roc_auc_score"
   ]
  },
  {
   "cell_type": "code",
   "execution_count": null,
   "id": "92040f42",
   "metadata": {},
   "outputs": [],
   "source": [
    "from sklearn.preprocessing import label_binarize"
   ]
  },
  {
   "cell_type": "code",
   "execution_count": null,
   "id": "bf9a28e1",
   "metadata": {},
   "outputs": [],
   "source": [
    "classes=np.unique(y_test)\n",
    "y_bin_test=label_binarize(y_test,classes=classes)\n",
    "y_bin_test"
   ]
  },
  {
   "cell_type": "code",
   "execution_count": null,
   "id": "aa0f648c",
   "metadata": {},
   "outputs": [],
   "source": [
    "y_bin_pred_lr=label_binarize(lr.predict(X_test),classes=np.unique(lr.predict(X_test)))\n",
    "proba=lr.predict_proba(X_test)\n",
    "y_score_lr=proba\n",
    "print(y_score_lr)"
   ]
  },
  {
   "cell_type": "code",
   "execution_count": null,
   "id": "b6feb7d8",
   "metadata": {},
   "outputs": [],
   "source": [
    "for i in range(len(classes)):\n",
    "    fpr,tpr,threshold=roc_curve(y_bin_test[:,i],y_score_lr[:,i])\n",
    "    auc_score=roc_auc_score(y_bin_test[:,i],y_score_lr[:,i])\n",
    "    plt.plot(fpr,tpr,label=f'Class : {i}, auc : {auc_score:.2f}')\n",
    "plt.plot([0,1],[0,1],linestyle='--')\n",
    "plt.xlabel('False Positive Rate')\n",
    "plt.ylabel('True Positive Rate')\n",
    "plt.title('Reciever Operating Charateristic : ROC-Curve for Logistic Regression')\n",
    "plt.legend()\n",
    "plt.show()"
   ]
  },
  {
   "cell_type": "code",
   "execution_count": null,
   "id": "a6abdba2",
   "metadata": {},
   "outputs": [],
   "source": [
    "y_bin_pred_rf=label_binarize(rf.predict(X_test),classes=np.unique(rf.predict(X_test)))\n",
    "proba=rf.predict_proba(X_test)\n",
    "y_score_rf=proba\n",
    "print(y_score_rf)"
   ]
  },
  {
   "cell_type": "code",
   "execution_count": null,
   "id": "9072c27f",
   "metadata": {},
   "outputs": [],
   "source": [
    "for i in range(len(classes)):\n",
    "    fpr,tpr,threshold=roc_curve(y_bin_test[:,i],y_score_rf[:,i])\n",
    "    auc_score=roc_auc_score(y_bin_test[:,i],y_score_rf[:,i])\n",
    "    plt.plot(fpr,tpr,label=f'Class : {i}, auc : {auc_score:.2f}')\n",
    "plt.plot([0,1],[0,1],linestyle='--')\n",
    "plt.xlabel('False Positive Rate')\n",
    "plt.ylabel('True Positive Rate')\n",
    "plt.title('Reciever Operating Charateristic : ROC-Curve for Random Forest Classifier')\n",
    "plt.legend()\n",
    "plt.show()"
   ]
  },
  {
   "cell_type": "code",
   "execution_count": null,
   "id": "9714a6e3",
   "metadata": {},
   "outputs": [],
   "source": [
    "y_bin_pred_gb=label_binarize(gbc.predict(X_test),classes=np.unique(gbc.predict(X_test)))\n",
    "proba=gbc.predict_proba(X_test)\n",
    "y_score_gb=proba\n",
    "print(y_score_gb)"
   ]
  },
  {
   "cell_type": "code",
   "execution_count": null,
   "id": "3f35d228",
   "metadata": {},
   "outputs": [],
   "source": [
    "y_bin_pred_gb"
   ]
  },
  {
   "cell_type": "code",
   "execution_count": null,
   "id": "245ce542",
   "metadata": {},
   "outputs": [],
   "source": [
    "for i in range(len(classes)):\n",
    "    fpr,tpr,threshold=roc_curve(y_bin_test[:,i],y_score_gb[:,i])\n",
    "    auc_score=roc_auc_score(y_bin_test[:,i],y_score_gb[:,i])\n",
    "    plt.plot(fpr,tpr,label=f'Class : {i}, auc : {auc_score:.2f}')\n",
    "plt.plot([0,1],[0,1],linestyle='--')\n",
    "plt.xlabel('False Positive Rate')\n",
    "plt.ylabel('True Positive Rate')\n",
    "plt.title('Reciever Operating Charateristic : ROC-Curve Gradient Boosting Classifier')\n",
    "plt.legend()\n",
    "plt.show()"
   ]
  },
  {
   "cell_type": "code",
   "execution_count": null,
   "id": "e3aadb46",
   "metadata": {},
   "outputs": [],
   "source": [
    "from sklearn.metrics import confusion_matrix"
   ]
  },
  {
   "cell_type": "code",
   "execution_count": null,
   "id": "e4d48f68",
   "metadata": {},
   "outputs": [],
   "source": [
    "lr_confusion_matrix=confusion_matrix(y_test,lr.predict(X_test))\n",
    "print('Logistic Regression Confusion Matrix : ')\n",
    "lr_confusion_matrix"
   ]
  },
  {
   "cell_type": "code",
   "execution_count": null,
   "id": "52d69d2d",
   "metadata": {},
   "outputs": [],
   "source": [
    "rf_confusion_matrix=confusion_matrix(y_test,rf.predict(X_test))\n",
    "print('Random Forest Classifier Confusion Matrix : ')\n",
    "rf_confusion_matrix"
   ]
  },
  {
   "cell_type": "code",
   "execution_count": null,
   "id": "69f5b126",
   "metadata": {},
   "outputs": [],
   "source": [
    "gb_confusion_matrix=confusion_matrix(y_test,gbc.predict(X_test))\n",
    "print('Gradient Boosting Classifier Confusion Matrix : ')\n",
    "gb_confusion_matrix"
   ]
  },
  {
   "cell_type": "markdown",
   "id": "bfd849de",
   "metadata": {},
   "source": [
    "From Confusion matrix we need to use Precision metrics"
   ]
  },
  {
   "cell_type": "markdown",
   "id": "3534edc3",
   "metadata": {},
   "source": [
    "# __Step 7__"
   ]
  },
  {
   "cell_type": "code",
   "execution_count": null,
   "id": "e2cca072",
   "metadata": {},
   "outputs": [],
   "source": [
    "proba_gbc=gbc.predict_proba(X_test)"
   ]
  },
  {
   "cell_type": "code",
   "execution_count": null,
   "id": "3ae9c3d4",
   "metadata": {},
   "outputs": [],
   "source": [
    "index=np.argmax(proba_gbc,axis=1)"
   ]
  },
  {
   "cell_type": "code",
   "execution_count": null,
   "id": "fe4d4ab9",
   "metadata": {},
   "outputs": [],
   "source": [
    "proba=proba_gbc.max(axis=1)"
   ]
  },
  {
   "cell_type": "code",
   "execution_count": null,
   "id": "97afd9fd",
   "metadata": {},
   "outputs": [],
   "source": [
    "zone_label=[\n",
    "    'Safe Zone' if x <= 0.2 else \n",
    "    'Low-Risk Zone' if x <= 0.6 else \n",
    "    'Medium-Risk Zone' if x <= 0.9 else \n",
    "    'High-Risk Zone'\n",
    "    for x in proba\n",
    "    ]"
   ]
  },
  {
   "cell_type": "code",
   "execution_count": null,
   "id": "176b4308",
   "metadata": {},
   "outputs": [],
   "source": [
    "proba_df=pd.DataFrame()"
   ]
  },
  {
   "cell_type": "code",
   "execution_count": null,
   "id": "9e780a15",
   "metadata": {},
   "outputs": [],
   "source": [
    "proba_df['Class']=index\n",
    "proba_df['Zone']=zone_label"
   ]
  },
  {
   "cell_type": "code",
   "execution_count": null,
   "id": "e1f04cf7",
   "metadata": {},
   "outputs": [],
   "source": [
    "sns.countplot(proba_df,x='Zone',hue='Class')"
   ]
  },
  {
   "cell_type": "code",
   "execution_count": null,
   "id": "0ca50848",
   "metadata": {},
   "outputs": [],
   "source": [
    "sns.countplot(proba_df,x='Zone')"
   ]
  },
  {
   "cell_type": "markdown",
   "id": "6075944f",
   "metadata": {},
   "source": [
    "1. There is high chance of an employee for leaving the company\n",
    "2. So we should aaply Retention strategy on High-Risk zone as compared to other zone"
   ]
  },
  {
   "cell_type": "code",
   "execution_count": null,
   "id": "4038ff83",
   "metadata": {},
   "outputs": [],
   "source": []
  }
 ],
 "metadata": {
  "kernelspec": {
   "display_name": "Python 3",
   "language": "python",
   "name": "python3"
  },
  "language_info": {
   "codemirror_mode": {
    "name": "ipython",
    "version": 3
   },
   "file_extension": ".py",
   "mimetype": "text/x-python",
   "name": "python",
   "nbconvert_exporter": "python",
   "pygments_lexer": "ipython3",
   "version": "3.13.2"
  }
 },
 "nbformat": 4,
 "nbformat_minor": 5
}
