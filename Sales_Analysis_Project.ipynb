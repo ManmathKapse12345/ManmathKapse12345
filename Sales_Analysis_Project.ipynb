{
 "cells": [
  {
   "cell_type": "markdown",
   "id": "39a48a9d-1b6e-42a0-b822-50191bdcd3a5",
   "metadata": {},
   "source": [
    "## __Data Wrangling__"
   ]
  },
  {
   "cell_type": "code",
   "execution_count": 1,
   "id": "31d596e8-94af-4d57-ba76-dfeb7dd942ea",
   "metadata": {},
   "outputs": [],
   "source": [
    "import pandas as pd\n",
    "import numpy as np\n",
    "import matplotlib.pyplot as plt\n",
    "import seaborn as sns\n",
    "from scipy import stats"
   ]
  },
  {
   "cell_type": "code",
   "execution_count": 2,
   "id": "f4885e8b-4843-473f-bc37-299abae5b23a",
   "metadata": {},
   "outputs": [
    {
     "data": {
      "text/html": [
       "<div>\n",
       "<style scoped>\n",
       "    .dataframe tbody tr th:only-of-type {\n",
       "        vertical-align: middle;\n",
       "    }\n",
       "\n",
       "    .dataframe tbody tr th {\n",
       "        vertical-align: top;\n",
       "    }\n",
       "\n",
       "    .dataframe thead th {\n",
       "        text-align: right;\n",
       "    }\n",
       "</style>\n",
       "<table border=\"1\" class=\"dataframe\">\n",
       "  <thead>\n",
       "    <tr style=\"text-align: right;\">\n",
       "      <th></th>\n",
       "      <th>Date</th>\n",
       "      <th>Time</th>\n",
       "      <th>State</th>\n",
       "      <th>Group</th>\n",
       "      <th>Unit</th>\n",
       "      <th>Sales</th>\n",
       "    </tr>\n",
       "  </thead>\n",
       "  <tbody>\n",
       "    <tr>\n",
       "      <th>0</th>\n",
       "      <td>1-Oct-2020</td>\n",
       "      <td>Morning</td>\n",
       "      <td>WA</td>\n",
       "      <td>Kids</td>\n",
       "      <td>8</td>\n",
       "      <td>20000</td>\n",
       "    </tr>\n",
       "    <tr>\n",
       "      <th>1</th>\n",
       "      <td>1-Oct-2020</td>\n",
       "      <td>Morning</td>\n",
       "      <td>WA</td>\n",
       "      <td>Men</td>\n",
       "      <td>8</td>\n",
       "      <td>20000</td>\n",
       "    </tr>\n",
       "    <tr>\n",
       "      <th>2</th>\n",
       "      <td>1-Oct-2020</td>\n",
       "      <td>Morning</td>\n",
       "      <td>WA</td>\n",
       "      <td>Women</td>\n",
       "      <td>4</td>\n",
       "      <td>10000</td>\n",
       "    </tr>\n",
       "    <tr>\n",
       "      <th>3</th>\n",
       "      <td>1-Oct-2020</td>\n",
       "      <td>Morning</td>\n",
       "      <td>WA</td>\n",
       "      <td>Seniors</td>\n",
       "      <td>15</td>\n",
       "      <td>37500</td>\n",
       "    </tr>\n",
       "    <tr>\n",
       "      <th>4</th>\n",
       "      <td>1-Oct-2020</td>\n",
       "      <td>Afternoon</td>\n",
       "      <td>WA</td>\n",
       "      <td>Kids</td>\n",
       "      <td>3</td>\n",
       "      <td>7500</td>\n",
       "    </tr>\n",
       "  </tbody>\n",
       "</table>\n",
       "</div>"
      ],
      "text/plain": [
       "         Date        Time State     Group  Unit  Sales\n",
       "0  1-Oct-2020     Morning    WA      Kids     8  20000\n",
       "1  1-Oct-2020     Morning    WA       Men     8  20000\n",
       "2  1-Oct-2020     Morning    WA     Women     4  10000\n",
       "3  1-Oct-2020     Morning    WA   Seniors    15  37500\n",
       "4  1-Oct-2020   Afternoon    WA      Kids     3   7500"
      ]
     },
     "execution_count": 2,
     "metadata": {},
     "output_type": "execute_result"
    }
   ],
   "source": [
    "df=pd.read_csv('AusApparalSales4thQrt2020.csv')\n",
    "df.head()"
   ]
  },
  {
   "cell_type": "code",
   "execution_count": 3,
   "id": "9c0b24bc-eacd-4426-b475-5c79888567c0",
   "metadata": {},
   "outputs": [
    {
     "name": "stdout",
     "output_type": "stream",
     "text": [
      "(7560, 6)\n",
      "Index(['Date', 'Time', 'State', 'Group', 'Unit', 'Sales'], dtype='object')\n"
     ]
    }
   ],
   "source": [
    "print(df.shape)\n",
    "print(df.columns)"
   ]
  },
  {
   "cell_type": "code",
   "execution_count": 4,
   "id": "88ada68c-4d78-4b7a-b651-a396ff9c243c",
   "metadata": {},
   "outputs": [
    {
     "name": "stdout",
     "output_type": "stream",
     "text": [
      "Date     0\n",
      "Time     0\n",
      "State    0\n",
      "Group    0\n",
      "Unit     0\n",
      "Sales    0\n",
      "dtype: int64\n"
     ]
    }
   ],
   "source": [
    "missing_values=df.isnull().sum()\n",
    "print(missing_values)"
   ]
  },
  {
   "cell_type": "markdown",
   "id": "3442a665-1a12-46b5-9299-342d6482c5e6",
   "metadata": {},
   "source": [
    "Data does not contain any missing values\n"
   ]
  },
  {
   "cell_type": "code",
   "execution_count": 5,
   "id": "3f5fade9-8951-499e-b74a-2ec4ad1e85da",
   "metadata": {},
   "outputs": [
    {
     "data": {
      "text/plain": [
       "(7560, 6)"
      ]
     },
     "execution_count": 5,
     "metadata": {},
     "output_type": "execute_result"
    }
   ],
   "source": [
    "df.drop_duplicates().shape\n"
   ]
  },
  {
   "cell_type": "markdown",
   "id": "6d5ea2f6-ae28-48be-887c-fddf28b259d1",
   "metadata": {},
   "source": [
    "Data does not contain duplicate values"
   ]
  },
  {
   "cell_type": "code",
   "execution_count": 6,
   "id": "fdfeb821-dd6e-4a28-85b4-b3e788d4fea5",
   "metadata": {},
   "outputs": [
    {
     "data": {
      "text/html": [
       "<div>\n",
       "<style scoped>\n",
       "    .dataframe tbody tr th:only-of-type {\n",
       "        vertical-align: middle;\n",
       "    }\n",
       "\n",
       "    .dataframe tbody tr th {\n",
       "        vertical-align: top;\n",
       "    }\n",
       "\n",
       "    .dataframe thead th {\n",
       "        text-align: right;\n",
       "    }\n",
       "</style>\n",
       "<table border=\"1\" class=\"dataframe\">\n",
       "  <thead>\n",
       "    <tr style=\"text-align: right;\">\n",
       "      <th></th>\n",
       "      <th>Date</th>\n",
       "      <th>Time</th>\n",
       "      <th>State</th>\n",
       "      <th>Group</th>\n",
       "      <th>Unit</th>\n",
       "      <th>Sales</th>\n",
       "      <th>Noramalized_Sales</th>\n",
       "    </tr>\n",
       "  </thead>\n",
       "  <tbody>\n",
       "    <tr>\n",
       "      <th>0</th>\n",
       "      <td>1-Oct-2020</td>\n",
       "      <td>Morning</td>\n",
       "      <td>WA</td>\n",
       "      <td>Kids</td>\n",
       "      <td>8</td>\n",
       "      <td>20000</td>\n",
       "      <td>0.095238</td>\n",
       "    </tr>\n",
       "    <tr>\n",
       "      <th>1</th>\n",
       "      <td>1-Oct-2020</td>\n",
       "      <td>Morning</td>\n",
       "      <td>WA</td>\n",
       "      <td>Men</td>\n",
       "      <td>8</td>\n",
       "      <td>20000</td>\n",
       "      <td>0.095238</td>\n",
       "    </tr>\n",
       "    <tr>\n",
       "      <th>2</th>\n",
       "      <td>1-Oct-2020</td>\n",
       "      <td>Morning</td>\n",
       "      <td>WA</td>\n",
       "      <td>Women</td>\n",
       "      <td>4</td>\n",
       "      <td>10000</td>\n",
       "      <td>0.031746</td>\n",
       "    </tr>\n",
       "    <tr>\n",
       "      <th>3</th>\n",
       "      <td>1-Oct-2020</td>\n",
       "      <td>Morning</td>\n",
       "      <td>WA</td>\n",
       "      <td>Seniors</td>\n",
       "      <td>15</td>\n",
       "      <td>37500</td>\n",
       "      <td>0.206349</td>\n",
       "    </tr>\n",
       "    <tr>\n",
       "      <th>4</th>\n",
       "      <td>1-Oct-2020</td>\n",
       "      <td>Afternoon</td>\n",
       "      <td>WA</td>\n",
       "      <td>Kids</td>\n",
       "      <td>3</td>\n",
       "      <td>7500</td>\n",
       "      <td>0.015873</td>\n",
       "    </tr>\n",
       "  </tbody>\n",
       "</table>\n",
       "</div>"
      ],
      "text/plain": [
       "         Date        Time State     Group  Unit  Sales  Noramalized_Sales\n",
       "0  1-Oct-2020     Morning    WA      Kids     8  20000           0.095238\n",
       "1  1-Oct-2020     Morning    WA       Men     8  20000           0.095238\n",
       "2  1-Oct-2020     Morning    WA     Women     4  10000           0.031746\n",
       "3  1-Oct-2020     Morning    WA   Seniors    15  37500           0.206349\n",
       "4  1-Oct-2020   Afternoon    WA      Kids     3   7500           0.015873"
      ]
     },
     "execution_count": 6,
     "metadata": {},
     "output_type": "execute_result"
    }
   ],
   "source": [
    "df['Noramalized_Sales']=(df['Sales']-df['Sales'].min())/(df['Sales'].max()-df['Sales'].min())\n",
    "df.head()"
   ]
  },
  {
   "cell_type": "code",
   "execution_count": 7,
   "id": "d99ce975-e7bb-4c4e-a159-f28662754886",
   "metadata": {},
   "outputs": [
    {
     "data": {
      "text/html": [
       "<div>\n",
       "<style scoped>\n",
       "    .dataframe tbody tr th:only-of-type {\n",
       "        vertical-align: middle;\n",
       "    }\n",
       "\n",
       "    .dataframe tbody tr th {\n",
       "        vertical-align: top;\n",
       "    }\n",
       "\n",
       "    .dataframe thead th {\n",
       "        text-align: right;\n",
       "    }\n",
       "</style>\n",
       "<table border=\"1\" class=\"dataframe\">\n",
       "  <thead>\n",
       "    <tr style=\"text-align: right;\">\n",
       "      <th></th>\n",
       "      <th>Time</th>\n",
       "      <th>mean</th>\n",
       "      <th>median</th>\n",
       "      <th>min</th>\n",
       "      <th>max</th>\n",
       "      <th>std</th>\n",
       "      <th>var</th>\n",
       "    </tr>\n",
       "  </thead>\n",
       "  <tbody>\n",
       "    <tr>\n",
       "      <th>0</th>\n",
       "      <td>Afternoon</td>\n",
       "      <td>45241.071429</td>\n",
       "      <td>35000.0</td>\n",
       "      <td>5000</td>\n",
       "      <td>162500</td>\n",
       "      <td>32318.429186</td>\n",
       "      <td>1.044481e+09</td>\n",
       "    </tr>\n",
       "    <tr>\n",
       "      <th>1</th>\n",
       "      <td>Evening</td>\n",
       "      <td>44479.166667</td>\n",
       "      <td>35000.0</td>\n",
       "      <td>5000</td>\n",
       "      <td>162500</td>\n",
       "      <td>32086.902866</td>\n",
       "      <td>1.029569e+09</td>\n",
       "    </tr>\n",
       "    <tr>\n",
       "      <th>2</th>\n",
       "      <td>Morning</td>\n",
       "      <td>45320.436508</td>\n",
       "      <td>35000.0</td>\n",
       "      <td>5000</td>\n",
       "      <td>162500</td>\n",
       "      <td>32360.627334</td>\n",
       "      <td>1.047210e+09</td>\n",
       "    </tr>\n",
       "  </tbody>\n",
       "</table>\n",
       "</div>"
      ],
      "text/plain": [
       "         Time          mean   median   min     max           std           var\n",
       "0   Afternoon  45241.071429  35000.0  5000  162500  32318.429186  1.044481e+09\n",
       "1     Evening  44479.166667  35000.0  5000  162500  32086.902866  1.029569e+09\n",
       "2     Morning  45320.436508  35000.0  5000  162500  32360.627334  1.047210e+09"
      ]
     },
     "execution_count": 7,
     "metadata": {},
     "output_type": "execute_result"
    }
   ],
   "source": [
    "df_time=df.groupby('Time')['Sales'].agg(['mean','median','min','max','std','var']).reset_index()\n",
    "df_time"
   ]
  },
  {
   "cell_type": "code",
   "execution_count": 8,
   "id": "8f515cfc-a678-4377-bfa6-6d354fa7f2f4",
   "metadata": {},
   "outputs": [
    {
     "name": "stdout",
     "output_type": "stream",
     "text": [
      "2     Morning\n",
      "Name: Time, dtype: object\n"
     ]
    }
   ],
   "source": [
    "print(df_time[df_time['mean']==df_time['mean'].max()]['Time'])"
   ]
  },
  {
   "cell_type": "markdown",
   "id": "1d80b169-ed9e-4e9d-b548-ead8ba0363a4",
   "metadata": {},
   "source": [
    "Maximum Average Sales happen in Morning then foolowed by Afternoon and Evening\n"
   ]
  },
  {
   "cell_type": "code",
   "execution_count": 9,
   "id": "7f12fe62-f332-43d6-8652-07f5a878438e",
   "metadata": {},
   "outputs": [],
   "source": [
    "df['Date']=pd.to_datetime(df['Date'])\n"
   ]
  },
  {
   "cell_type": "code",
   "execution_count": 10,
   "id": "f3bdcae9-fb3e-4f41-954d-49ecdb0018d7",
   "metadata": {},
   "outputs": [
    {
     "name": "stdout",
     "output_type": "stream",
     "text": [
      "datetime64[ns]\n"
     ]
    }
   ],
   "source": [
    "print(df['Date'].dtype)\n"
   ]
  },
  {
   "cell_type": "code",
   "execution_count": 11,
   "id": "a8d9daf8-4f53-4e34-8cf1-69684391ac88",
   "metadata": {},
   "outputs": [
    {
     "data": {
      "text/html": [
       "<div>\n",
       "<style scoped>\n",
       "    .dataframe tbody tr th:only-of-type {\n",
       "        vertical-align: middle;\n",
       "    }\n",
       "\n",
       "    .dataframe tbody tr th {\n",
       "        vertical-align: top;\n",
       "    }\n",
       "\n",
       "    .dataframe thead th {\n",
       "        text-align: right;\n",
       "    }\n",
       "</style>\n",
       "<table border=\"1\" class=\"dataframe\">\n",
       "  <thead>\n",
       "    <tr style=\"text-align: right;\">\n",
       "      <th></th>\n",
       "      <th>Date</th>\n",
       "      <th>mean</th>\n",
       "      <th>median</th>\n",
       "      <th>min</th>\n",
       "      <th>max</th>\n",
       "      <th>std</th>\n",
       "      <th>var</th>\n",
       "    </tr>\n",
       "  </thead>\n",
       "  <tbody>\n",
       "    <tr>\n",
       "      <th>0</th>\n",
       "      <td>2020-10-01</td>\n",
       "      <td>44285.714286</td>\n",
       "      <td>36250.0</td>\n",
       "      <td>7500</td>\n",
       "      <td>125000</td>\n",
       "      <td>29584.398945</td>\n",
       "      <td>8.752367e+08</td>\n",
       "    </tr>\n",
       "    <tr>\n",
       "      <th>1</th>\n",
       "      <td>2020-10-02</td>\n",
       "      <td>44226.190476</td>\n",
       "      <td>32500.0</td>\n",
       "      <td>7500</td>\n",
       "      <td>120000</td>\n",
       "      <td>29846.434749</td>\n",
       "      <td>8.908097e+08</td>\n",
       "    </tr>\n",
       "    <tr>\n",
       "      <th>2</th>\n",
       "      <td>2020-10-03</td>\n",
       "      <td>46309.523810</td>\n",
       "      <td>33750.0</td>\n",
       "      <td>7500</td>\n",
       "      <td>125000</td>\n",
       "      <td>32033.200469</td>\n",
       "      <td>1.026126e+09</td>\n",
       "    </tr>\n",
       "    <tr>\n",
       "      <th>3</th>\n",
       "      <td>2020-10-04</td>\n",
       "      <td>44285.714286</td>\n",
       "      <td>37500.0</td>\n",
       "      <td>7500</td>\n",
       "      <td>115000</td>\n",
       "      <td>25845.845803</td>\n",
       "      <td>6.680077e+08</td>\n",
       "    </tr>\n",
       "    <tr>\n",
       "      <th>4</th>\n",
       "      <td>2020-10-05</td>\n",
       "      <td>45982.142857</td>\n",
       "      <td>36250.0</td>\n",
       "      <td>7500</td>\n",
       "      <td>110000</td>\n",
       "      <td>29437.543280</td>\n",
       "      <td>8.665690e+08</td>\n",
       "    </tr>\n",
       "    <tr>\n",
       "      <th>...</th>\n",
       "      <td>...</td>\n",
       "      <td>...</td>\n",
       "      <td>...</td>\n",
       "      <td>...</td>\n",
       "      <td>...</td>\n",
       "      <td>...</td>\n",
       "      <td>...</td>\n",
       "    </tr>\n",
       "    <tr>\n",
       "      <th>85</th>\n",
       "      <td>2020-12-26</td>\n",
       "      <td>56130.952381</td>\n",
       "      <td>43750.0</td>\n",
       "      <td>12500</td>\n",
       "      <td>160000</td>\n",
       "      <td>39609.168879</td>\n",
       "      <td>1.568886e+09</td>\n",
       "    </tr>\n",
       "    <tr>\n",
       "      <th>86</th>\n",
       "      <td>2020-12-27</td>\n",
       "      <td>55208.333333</td>\n",
       "      <td>38750.0</td>\n",
       "      <td>12500</td>\n",
       "      <td>155000</td>\n",
       "      <td>38158.294929</td>\n",
       "      <td>1.456055e+09</td>\n",
       "    </tr>\n",
       "    <tr>\n",
       "      <th>87</th>\n",
       "      <td>2020-12-28</td>\n",
       "      <td>54702.380952</td>\n",
       "      <td>40000.0</td>\n",
       "      <td>12500</td>\n",
       "      <td>162500</td>\n",
       "      <td>38292.636608</td>\n",
       "      <td>1.466326e+09</td>\n",
       "    </tr>\n",
       "    <tr>\n",
       "      <th>88</th>\n",
       "      <td>2020-12-29</td>\n",
       "      <td>54851.190476</td>\n",
       "      <td>40000.0</td>\n",
       "      <td>12500</td>\n",
       "      <td>162500</td>\n",
       "      <td>36656.890061</td>\n",
       "      <td>1.343728e+09</td>\n",
       "    </tr>\n",
       "    <tr>\n",
       "      <th>89</th>\n",
       "      <td>2020-12-30</td>\n",
       "      <td>54642.857143</td>\n",
       "      <td>37500.0</td>\n",
       "      <td>12500</td>\n",
       "      <td>162500</td>\n",
       "      <td>33653.404510</td>\n",
       "      <td>1.132552e+09</td>\n",
       "    </tr>\n",
       "  </tbody>\n",
       "</table>\n",
       "<p>90 rows × 7 columns</p>\n",
       "</div>"
      ],
      "text/plain": [
       "         Date          mean   median    min     max           std  \\\n",
       "0  2020-10-01  44285.714286  36250.0   7500  125000  29584.398945   \n",
       "1  2020-10-02  44226.190476  32500.0   7500  120000  29846.434749   \n",
       "2  2020-10-03  46309.523810  33750.0   7500  125000  32033.200469   \n",
       "3  2020-10-04  44285.714286  37500.0   7500  115000  25845.845803   \n",
       "4  2020-10-05  45982.142857  36250.0   7500  110000  29437.543280   \n",
       "..        ...           ...      ...    ...     ...           ...   \n",
       "85 2020-12-26  56130.952381  43750.0  12500  160000  39609.168879   \n",
       "86 2020-12-27  55208.333333  38750.0  12500  155000  38158.294929   \n",
       "87 2020-12-28  54702.380952  40000.0  12500  162500  38292.636608   \n",
       "88 2020-12-29  54851.190476  40000.0  12500  162500  36656.890061   \n",
       "89 2020-12-30  54642.857143  37500.0  12500  162500  33653.404510   \n",
       "\n",
       "             var  \n",
       "0   8.752367e+08  \n",
       "1   8.908097e+08  \n",
       "2   1.026126e+09  \n",
       "3   6.680077e+08  \n",
       "4   8.665690e+08  \n",
       "..           ...  \n",
       "85  1.568886e+09  \n",
       "86  1.456055e+09  \n",
       "87  1.466326e+09  \n",
       "88  1.343728e+09  \n",
       "89  1.132552e+09  \n",
       "\n",
       "[90 rows x 7 columns]"
      ]
     },
     "execution_count": 11,
     "metadata": {},
     "output_type": "execute_result"
    }
   ],
   "source": [
    "df_date=df.groupby('Date')['Sales'].agg(['mean','median','min','max','std','var']).reset_index()\n",
    "df_date"
   ]
  },
  {
   "cell_type": "code",
   "execution_count": 13,
   "id": "6fcdb22e-49ac-4168-b009-9555e772c947",
   "metadata": {},
   "outputs": [
    {
     "name": "stdout",
     "output_type": "stream",
     "text": [
      "73   2020-12-14\n",
      "Name: Date, dtype: datetime64[ns]\n",
      "85   2020-12-26\n",
      "Name: Date, dtype: datetime64[ns]\n"
     ]
    }
   ],
   "source": [
    "print(df_date[df_date['mean']==df_date['mean'].max()]['Date'])\n",
    "print(df_date[df_date['median']==df_date['median'].max()]['Date'])"
   ]
  },
  {
   "cell_type": "code",
   "execution_count": 14,
   "id": "8afb6b73-2ca4-4b3b-a9a1-d139715a4f88",
   "metadata": {},
   "outputs": [
    {
     "data": {
      "text/plain": [
       "array([' WA', ' NT', ' SA', ' VIC', ' QLD', ' NSW', ' TAS'], dtype=object)"
      ]
     },
     "execution_count": 14,
     "metadata": {},
     "output_type": "execute_result"
    }
   ],
   "source": [
    "df['State'].unique()"
   ]
  },
  {
   "cell_type": "code",
   "execution_count": 15,
   "id": "e1b18870-618e-42a5-91ad-4ec500403e3b",
   "metadata": {},
   "outputs": [
    {
     "data": {
      "text/html": [
       "<div>\n",
       "<style scoped>\n",
       "    .dataframe tbody tr th:only-of-type {\n",
       "        vertical-align: middle;\n",
       "    }\n",
       "\n",
       "    .dataframe tbody tr th {\n",
       "        vertical-align: top;\n",
       "    }\n",
       "\n",
       "    .dataframe thead th {\n",
       "        text-align: right;\n",
       "    }\n",
       "</style>\n",
       "<table border=\"1\" class=\"dataframe\">\n",
       "  <thead>\n",
       "    <tr style=\"text-align: right;\">\n",
       "      <th></th>\n",
       "      <th>State</th>\n",
       "      <th>mean</th>\n",
       "      <th>median</th>\n",
       "      <th>std</th>\n",
       "      <th>min</th>\n",
       "      <th>max</th>\n",
       "      <th>sum</th>\n",
       "    </tr>\n",
       "  </thead>\n",
       "  <tbody>\n",
       "    <tr>\n",
       "      <th>0</th>\n",
       "      <td>NSW</td>\n",
       "      <td>69416.666667</td>\n",
       "      <td>70000.0</td>\n",
       "      <td>20626.651646</td>\n",
       "      <td>30000</td>\n",
       "      <td>112500</td>\n",
       "      <td>74970000</td>\n",
       "    </tr>\n",
       "    <tr>\n",
       "      <th>1</th>\n",
       "      <td>NT</td>\n",
       "      <td>20907.407407</td>\n",
       "      <td>20000.0</td>\n",
       "      <td>8961.907893</td>\n",
       "      <td>5000</td>\n",
       "      <td>37500</td>\n",
       "      <td>22580000</td>\n",
       "    </tr>\n",
       "    <tr>\n",
       "      <th>2</th>\n",
       "      <td>QLD</td>\n",
       "      <td>30942.129630</td>\n",
       "      <td>30000.0</td>\n",
       "      <td>13344.638002</td>\n",
       "      <td>7500</td>\n",
       "      <td>62500</td>\n",
       "      <td>33417500</td>\n",
       "    </tr>\n",
       "    <tr>\n",
       "      <th>3</th>\n",
       "      <td>SA</td>\n",
       "      <td>54497.685185</td>\n",
       "      <td>52500.0</td>\n",
       "      <td>17460.965183</td>\n",
       "      <td>25000</td>\n",
       "      <td>87500</td>\n",
       "      <td>58857500</td>\n",
       "    </tr>\n",
       "    <tr>\n",
       "      <th>4</th>\n",
       "      <td>TAS</td>\n",
       "      <td>21074.074074</td>\n",
       "      <td>20000.0</td>\n",
       "      <td>9024.684205</td>\n",
       "      <td>5000</td>\n",
       "      <td>37500</td>\n",
       "      <td>22760000</td>\n",
       "    </tr>\n",
       "    <tr>\n",
       "      <th>5</th>\n",
       "      <td>VIC</td>\n",
       "      <td>97745.370370</td>\n",
       "      <td>95000.0</td>\n",
       "      <td>26621.597092</td>\n",
       "      <td>50000</td>\n",
       "      <td>162500</td>\n",
       "      <td>105565000</td>\n",
       "    </tr>\n",
       "    <tr>\n",
       "      <th>6</th>\n",
       "      <td>WA</td>\n",
       "      <td>20511.574074</td>\n",
       "      <td>20000.0</td>\n",
       "      <td>9231.905897</td>\n",
       "      <td>5000</td>\n",
       "      <td>37500</td>\n",
       "      <td>22152500</td>\n",
       "    </tr>\n",
       "  </tbody>\n",
       "</table>\n",
       "</div>"
      ],
      "text/plain": [
       "  State          mean   median           std    min     max        sum\n",
       "0   NSW  69416.666667  70000.0  20626.651646  30000  112500   74970000\n",
       "1    NT  20907.407407  20000.0   8961.907893   5000   37500   22580000\n",
       "2   QLD  30942.129630  30000.0  13344.638002   7500   62500   33417500\n",
       "3    SA  54497.685185  52500.0  17460.965183  25000   87500   58857500\n",
       "4   TAS  21074.074074  20000.0   9024.684205   5000   37500   22760000\n",
       "5   VIC  97745.370370  95000.0  26621.597092  50000  162500  105565000\n",
       "6    WA  20511.574074  20000.0   9231.905897   5000   37500   22152500"
      ]
     },
     "execution_count": 15,
     "metadata": {},
     "output_type": "execute_result"
    }
   ],
   "source": [
    "df_state=df.groupby('State')['Sales'].agg(['mean','median','std','min','max','sum']).reset_index()\n",
    "df_state"
   ]
  },
  {
   "cell_type": "code",
   "execution_count": 16,
   "id": "72339a4c-e43b-45c5-8ad4-a5e1d6025cc6",
   "metadata": {},
   "outputs": [
    {
     "name": "stdout",
     "output_type": "stream",
     "text": [
      "5     VIC\n",
      "Name: State, dtype: object\n",
      "5     VIC\n",
      "Name: State, dtype: object\n"
     ]
    }
   ],
   "source": [
    "print(df_state[df_state['mean']==df_state['mean'].max()]['State'])\n",
    "print(df_state[df_state['median']==df_state['median'].max()]['State'])"
   ]
  },
  {
   "cell_type": "markdown",
   "id": "dcd3c225-53dd-47fb-bb50-c0340128fcb5",
   "metadata": {},
   "source": [
    "The maximum average Sales happens in state VIC"
   ]
  },
  {
   "cell_type": "code",
   "execution_count": 17,
   "id": "e091ee16-0b52-46ef-ab8d-135d128cdbbc",
   "metadata": {},
   "outputs": [
    {
     "data": {
      "text/html": [
       "<div>\n",
       "<style scoped>\n",
       "    .dataframe tbody tr th:only-of-type {\n",
       "        vertical-align: middle;\n",
       "    }\n",
       "\n",
       "    .dataframe tbody tr th {\n",
       "        vertical-align: top;\n",
       "    }\n",
       "\n",
       "    .dataframe thead th {\n",
       "        text-align: right;\n",
       "    }\n",
       "</style>\n",
       "<table border=\"1\" class=\"dataframe\">\n",
       "  <thead>\n",
       "    <tr style=\"text-align: right;\">\n",
       "      <th></th>\n",
       "      <th>Group</th>\n",
       "      <th>mean</th>\n",
       "      <th>median</th>\n",
       "      <th>std</th>\n",
       "      <th>min</th>\n",
       "      <th>max</th>\n",
       "    </tr>\n",
       "  </thead>\n",
       "  <tbody>\n",
       "    <tr>\n",
       "      <th>0</th>\n",
       "      <td>Kids</td>\n",
       "      <td>45011.904762</td>\n",
       "      <td>35000.0</td>\n",
       "      <td>31871.491085</td>\n",
       "      <td>5000</td>\n",
       "      <td>162500</td>\n",
       "    </tr>\n",
       "    <tr>\n",
       "      <th>1</th>\n",
       "      <td>Men</td>\n",
       "      <td>45370.370370</td>\n",
       "      <td>35000.0</td>\n",
       "      <td>32177.180712</td>\n",
       "      <td>5000</td>\n",
       "      <td>160000</td>\n",
       "    </tr>\n",
       "    <tr>\n",
       "      <th>2</th>\n",
       "      <td>Seniors</td>\n",
       "      <td>44464.285714</td>\n",
       "      <td>35000.0</td>\n",
       "      <td>32195.360017</td>\n",
       "      <td>5000</td>\n",
       "      <td>162500</td>\n",
       "    </tr>\n",
       "    <tr>\n",
       "      <th>3</th>\n",
       "      <td>Women</td>\n",
       "      <td>45207.671958</td>\n",
       "      <td>35000.0</td>\n",
       "      <td>32781.639869</td>\n",
       "      <td>5000</td>\n",
       "      <td>162500</td>\n",
       "    </tr>\n",
       "  </tbody>\n",
       "</table>\n",
       "</div>"
      ],
      "text/plain": [
       "      Group          mean   median           std   min     max\n",
       "0      Kids  45011.904762  35000.0  31871.491085  5000  162500\n",
       "1       Men  45370.370370  35000.0  32177.180712  5000  160000\n",
       "2   Seniors  44464.285714  35000.0  32195.360017  5000  162500\n",
       "3     Women  45207.671958  35000.0  32781.639869  5000  162500"
      ]
     },
     "execution_count": 17,
     "metadata": {},
     "output_type": "execute_result"
    }
   ],
   "source": [
    "df_group=df.groupby('Group')['Sales'].agg(['mean','median','std','min','max']).reset_index()\n",
    "df_group"
   ]
  },
  {
   "cell_type": "code",
   "execution_count": 18,
   "id": "93bb3078-acf8-4d4f-bcfa-55e1c2ccbb2a",
   "metadata": {},
   "outputs": [
    {
     "name": "stdout",
     "output_type": "stream",
     "text": [
      "1     Men\n",
      "Name: Group, dtype: object\n"
     ]
    }
   ],
   "source": [
    "print(df_group[df_group['mean']==df_group['mean'].max()]['Group'])"
   ]
  },
  {
   "cell_type": "code",
   "execution_count": 19,
   "id": "63a65eba-4ea9-4b69-ba4c-effdd422dff3",
   "metadata": {},
   "outputs": [
    {
     "data": {
      "text/html": [
       "<div>\n",
       "<style scoped>\n",
       "    .dataframe tbody tr th:only-of-type {\n",
       "        vertical-align: middle;\n",
       "    }\n",
       "\n",
       "    .dataframe tbody tr th {\n",
       "        vertical-align: top;\n",
       "    }\n",
       "\n",
       "    .dataframe thead th {\n",
       "        text-align: right;\n",
       "    }\n",
       "</style>\n",
       "<table border=\"1\" class=\"dataframe\">\n",
       "  <thead>\n",
       "    <tr style=\"text-align: right;\">\n",
       "      <th></th>\n",
       "      <th>Unit</th>\n",
       "      <th>mean</th>\n",
       "      <th>median</th>\n",
       "      <th>std</th>\n",
       "      <th>min</th>\n",
       "      <th>max</th>\n",
       "    </tr>\n",
       "  </thead>\n",
       "  <tbody>\n",
       "    <tr>\n",
       "      <th>0</th>\n",
       "      <td>2</td>\n",
       "      <td>5000.0</td>\n",
       "      <td>5000.0</td>\n",
       "      <td>0.0</td>\n",
       "      <td>5000</td>\n",
       "      <td>5000</td>\n",
       "    </tr>\n",
       "    <tr>\n",
       "      <th>1</th>\n",
       "      <td>3</td>\n",
       "      <td>7500.0</td>\n",
       "      <td>7500.0</td>\n",
       "      <td>0.0</td>\n",
       "      <td>7500</td>\n",
       "      <td>7500</td>\n",
       "    </tr>\n",
       "    <tr>\n",
       "      <th>2</th>\n",
       "      <td>4</td>\n",
       "      <td>10000.0</td>\n",
       "      <td>10000.0</td>\n",
       "      <td>0.0</td>\n",
       "      <td>10000</td>\n",
       "      <td>10000</td>\n",
       "    </tr>\n",
       "    <tr>\n",
       "      <th>3</th>\n",
       "      <td>5</td>\n",
       "      <td>12500.0</td>\n",
       "      <td>12500.0</td>\n",
       "      <td>0.0</td>\n",
       "      <td>12500</td>\n",
       "      <td>12500</td>\n",
       "    </tr>\n",
       "    <tr>\n",
       "      <th>4</th>\n",
       "      <td>6</td>\n",
       "      <td>15000.0</td>\n",
       "      <td>15000.0</td>\n",
       "      <td>0.0</td>\n",
       "      <td>15000</td>\n",
       "      <td>15000</td>\n",
       "    </tr>\n",
       "    <tr>\n",
       "      <th>...</th>\n",
       "      <td>...</td>\n",
       "      <td>...</td>\n",
       "      <td>...</td>\n",
       "      <td>...</td>\n",
       "      <td>...</td>\n",
       "      <td>...</td>\n",
       "    </tr>\n",
       "    <tr>\n",
       "      <th>59</th>\n",
       "      <td>61</td>\n",
       "      <td>152500.0</td>\n",
       "      <td>152500.0</td>\n",
       "      <td>0.0</td>\n",
       "      <td>152500</td>\n",
       "      <td>152500</td>\n",
       "    </tr>\n",
       "    <tr>\n",
       "      <th>60</th>\n",
       "      <td>62</td>\n",
       "      <td>155000.0</td>\n",
       "      <td>155000.0</td>\n",
       "      <td>0.0</td>\n",
       "      <td>155000</td>\n",
       "      <td>155000</td>\n",
       "    </tr>\n",
       "    <tr>\n",
       "      <th>61</th>\n",
       "      <td>63</td>\n",
       "      <td>157500.0</td>\n",
       "      <td>157500.0</td>\n",
       "      <td>0.0</td>\n",
       "      <td>157500</td>\n",
       "      <td>157500</td>\n",
       "    </tr>\n",
       "    <tr>\n",
       "      <th>62</th>\n",
       "      <td>64</td>\n",
       "      <td>160000.0</td>\n",
       "      <td>160000.0</td>\n",
       "      <td>0.0</td>\n",
       "      <td>160000</td>\n",
       "      <td>160000</td>\n",
       "    </tr>\n",
       "    <tr>\n",
       "      <th>63</th>\n",
       "      <td>65</td>\n",
       "      <td>162500.0</td>\n",
       "      <td>162500.0</td>\n",
       "      <td>0.0</td>\n",
       "      <td>162500</td>\n",
       "      <td>162500</td>\n",
       "    </tr>\n",
       "  </tbody>\n",
       "</table>\n",
       "<p>64 rows × 6 columns</p>\n",
       "</div>"
      ],
      "text/plain": [
       "    Unit      mean    median  std     min     max\n",
       "0      2    5000.0    5000.0  0.0    5000    5000\n",
       "1      3    7500.0    7500.0  0.0    7500    7500\n",
       "2      4   10000.0   10000.0  0.0   10000   10000\n",
       "3      5   12500.0   12500.0  0.0   12500   12500\n",
       "4      6   15000.0   15000.0  0.0   15000   15000\n",
       "..   ...       ...       ...  ...     ...     ...\n",
       "59    61  152500.0  152500.0  0.0  152500  152500\n",
       "60    62  155000.0  155000.0  0.0  155000  155000\n",
       "61    63  157500.0  157500.0  0.0  157500  157500\n",
       "62    64  160000.0  160000.0  0.0  160000  160000\n",
       "63    65  162500.0  162500.0  0.0  162500  162500\n",
       "\n",
       "[64 rows x 6 columns]"
      ]
     },
     "execution_count": 19,
     "metadata": {},
     "output_type": "execute_result"
    }
   ],
   "source": [
    "df_unit=df.groupby('Unit')['Sales'].agg(['mean','median','std','min','max']).reset_index()\n",
    "df_unit"
   ]
  },
  {
   "cell_type": "markdown",
   "id": "087dbe9a-4316-41d8-82df-2557250b4df6",
   "metadata": {},
   "source": [
    "## __Data Analysis__"
   ]
  },
  {
   "cell_type": "code",
   "execution_count": 20,
   "id": "c6cd9930-6aaa-4c2e-978f-10e1de6adb62",
   "metadata": {},
   "outputs": [
    {
     "data": {
      "text/html": [
       "<div>\n",
       "<style scoped>\n",
       "    .dataframe tbody tr th:only-of-type {\n",
       "        vertical-align: middle;\n",
       "    }\n",
       "\n",
       "    .dataframe tbody tr th {\n",
       "        vertical-align: top;\n",
       "    }\n",
       "\n",
       "    .dataframe thead th {\n",
       "        text-align: right;\n",
       "    }\n",
       "</style>\n",
       "<table border=\"1\" class=\"dataframe\">\n",
       "  <thead>\n",
       "    <tr style=\"text-align: right;\">\n",
       "      <th></th>\n",
       "      <th>Unit</th>\n",
       "      <th>Sales</th>\n",
       "    </tr>\n",
       "  </thead>\n",
       "  <tbody>\n",
       "    <tr>\n",
       "      <th>count</th>\n",
       "      <td>7560.000000</td>\n",
       "      <td>7560.000000</td>\n",
       "    </tr>\n",
       "    <tr>\n",
       "      <th>mean</th>\n",
       "      <td>18.005423</td>\n",
       "      <td>45013.558201</td>\n",
       "    </tr>\n",
       "    <tr>\n",
       "      <th>std</th>\n",
       "      <td>12.901403</td>\n",
       "      <td>32253.506944</td>\n",
       "    </tr>\n",
       "    <tr>\n",
       "      <th>min</th>\n",
       "      <td>2.000000</td>\n",
       "      <td>5000.000000</td>\n",
       "    </tr>\n",
       "    <tr>\n",
       "      <th>25%</th>\n",
       "      <td>8.000000</td>\n",
       "      <td>20000.000000</td>\n",
       "    </tr>\n",
       "    <tr>\n",
       "      <th>50%</th>\n",
       "      <td>14.000000</td>\n",
       "      <td>35000.000000</td>\n",
       "    </tr>\n",
       "    <tr>\n",
       "      <th>75%</th>\n",
       "      <td>26.000000</td>\n",
       "      <td>65000.000000</td>\n",
       "    </tr>\n",
       "    <tr>\n",
       "      <th>max</th>\n",
       "      <td>65.000000</td>\n",
       "      <td>162500.000000</td>\n",
       "    </tr>\n",
       "  </tbody>\n",
       "</table>\n",
       "</div>"
      ],
      "text/plain": [
       "              Unit          Sales\n",
       "count  7560.000000    7560.000000\n",
       "mean     18.005423   45013.558201\n",
       "std      12.901403   32253.506944\n",
       "min       2.000000    5000.000000\n",
       "25%       8.000000   20000.000000\n",
       "50%      14.000000   35000.000000\n",
       "75%      26.000000   65000.000000\n",
       "max      65.000000  162500.000000"
      ]
     },
     "execution_count": 20,
     "metadata": {},
     "output_type": "execute_result"
    }
   ],
   "source": [
    "df[['Unit','Sales']].describe()"
   ]
  },
  {
   "cell_type": "code",
   "execution_count": 21,
   "id": "54d3c32b-391b-402e-b076-a52e04dfe42a",
   "metadata": {},
   "outputs": [
    {
     "name": "stdout",
     "output_type": "stream",
     "text": [
      "Mean of Unit :-  18.00542328042328\n",
      "Median of Unit :-  14.0\n",
      "Mode of Unit :-  0    9\n",
      "Name: Unit, dtype: int64\n",
      "Mean of Sales :-  45013.5582010582\n",
      "Median of Sales :-  35000.0\n",
      "Mode of Sales :-  0    22500\n",
      "Name: Sales, dtype: int64\n"
     ]
    }
   ],
   "source": [
    "print('Mean of Unit :- ',df['Unit'].mean())\n",
    "print('Median of Unit :- ',df['Unit'].median())\n",
    "print('Mode of Unit :- ',df['Unit'].mode())\n",
    "print('Mean of Sales :- ',df['Sales'].mean())\n",
    "print('Median of Sales :- ',df['Sales'].median())\n",
    "print('Mode of Sales :- ',df['Sales'].mode())"
   ]
  },
  {
   "cell_type": "code",
   "execution_count": 22,
   "id": "82c7f0dc-1a56-4cea-a919-581c84be9fd0",
   "metadata": {},
   "outputs": [
    {
     "name": "stdout",
     "output_type": "stream",
     "text": [
      "Group with highest Sales :- \n",
      " 5423     Seniors\n",
      "5759     Seniors\n",
      "5842       Women\n",
      "6174       Women\n",
      "6340        Kids\n",
      "6598       Women\n",
      "6931     Seniors\n",
      "7019     Seniors\n",
      "7354       Women\n",
      "7432        Kids\n",
      "7515     Seniors\n",
      "Name: Group, dtype: object\n",
      "Group with lowest Sales :- \n",
      " 2533         Men\n",
      "2537         Men\n",
      "2542       Women\n",
      "2594       Women\n",
      "2603     Seniors\n",
      "          ...   \n",
      "4884        Kids\n",
      "4945         Men\n",
      "4973         Men\n",
      "4975     Seniors\n",
      "5039     Seniors\n",
      "Name: Group, Length: 130, dtype: object\n"
     ]
    }
   ],
   "source": [
    "print('Group with highest Sales :- \\n',df[df['Sales']==df['Sales'].max()]['Group'])\n",
    "print('Group with lowest Sales :- \\n',df[df['Sales']==df['Sales'].min()]['Group'])"
   ]
  },
  {
   "cell_type": "code",
   "execution_count": 23,
   "id": "479c3eab-f2db-48ef-bef3-844e9c0d0f62",
   "metadata": {},
   "outputs": [
    {
     "data": {
      "text/html": [
       "<div>\n",
       "<style scoped>\n",
       "    .dataframe tbody tr th:only-of-type {\n",
       "        vertical-align: middle;\n",
       "    }\n",
       "\n",
       "    .dataframe tbody tr th {\n",
       "        vertical-align: top;\n",
       "    }\n",
       "\n",
       "    .dataframe thead th {\n",
       "        text-align: right;\n",
       "    }\n",
       "</style>\n",
       "<table border=\"1\" class=\"dataframe\">\n",
       "  <thead>\n",
       "    <tr style=\"text-align: right;\">\n",
       "      <th></th>\n",
       "      <th>Date</th>\n",
       "      <th>Unit</th>\n",
       "      <th>Sales</th>\n",
       "    </tr>\n",
       "  </thead>\n",
       "  <tbody>\n",
       "    <tr>\n",
       "      <th>0</th>\n",
       "      <td>2020-10-01</td>\n",
       "      <td>1488</td>\n",
       "      <td>3720000</td>\n",
       "    </tr>\n",
       "    <tr>\n",
       "      <th>1</th>\n",
       "      <td>2020-10-02</td>\n",
       "      <td>1486</td>\n",
       "      <td>3715000</td>\n",
       "    </tr>\n",
       "    <tr>\n",
       "      <th>2</th>\n",
       "      <td>2020-10-03</td>\n",
       "      <td>1556</td>\n",
       "      <td>3890000</td>\n",
       "    </tr>\n",
       "    <tr>\n",
       "      <th>3</th>\n",
       "      <td>2020-10-04</td>\n",
       "      <td>1488</td>\n",
       "      <td>3720000</td>\n",
       "    </tr>\n",
       "    <tr>\n",
       "      <th>4</th>\n",
       "      <td>2020-10-05</td>\n",
       "      <td>1545</td>\n",
       "      <td>3862500</td>\n",
       "    </tr>\n",
       "    <tr>\n",
       "      <th>...</th>\n",
       "      <td>...</td>\n",
       "      <td>...</td>\n",
       "      <td>...</td>\n",
       "    </tr>\n",
       "    <tr>\n",
       "      <th>85</th>\n",
       "      <td>2020-12-26</td>\n",
       "      <td>1886</td>\n",
       "      <td>4715000</td>\n",
       "    </tr>\n",
       "    <tr>\n",
       "      <th>86</th>\n",
       "      <td>2020-12-27</td>\n",
       "      <td>1855</td>\n",
       "      <td>4637500</td>\n",
       "    </tr>\n",
       "    <tr>\n",
       "      <th>87</th>\n",
       "      <td>2020-12-28</td>\n",
       "      <td>1838</td>\n",
       "      <td>4595000</td>\n",
       "    </tr>\n",
       "    <tr>\n",
       "      <th>88</th>\n",
       "      <td>2020-12-29</td>\n",
       "      <td>1843</td>\n",
       "      <td>4607500</td>\n",
       "    </tr>\n",
       "    <tr>\n",
       "      <th>89</th>\n",
       "      <td>2020-12-30</td>\n",
       "      <td>1836</td>\n",
       "      <td>4590000</td>\n",
       "    </tr>\n",
       "  </tbody>\n",
       "</table>\n",
       "<p>90 rows × 3 columns</p>\n",
       "</div>"
      ],
      "text/plain": [
       "         Date  Unit    Sales\n",
       "0  2020-10-01  1488  3720000\n",
       "1  2020-10-02  1486  3715000\n",
       "2  2020-10-03  1556  3890000\n",
       "3  2020-10-04  1488  3720000\n",
       "4  2020-10-05  1545  3862500\n",
       "..        ...   ...      ...\n",
       "85 2020-12-26  1886  4715000\n",
       "86 2020-12-27  1855  4637500\n",
       "87 2020-12-28  1838  4595000\n",
       "88 2020-12-29  1843  4607500\n",
       "89 2020-12-30  1836  4590000\n",
       "\n",
       "[90 rows x 3 columns]"
      ]
     },
     "execution_count": 23,
     "metadata": {},
     "output_type": "execute_result"
    }
   ],
   "source": [
    "daily_sales_reports=df.groupby('Date')['Sales'].agg(['sum']).reset_index()\n",
    "daily_unit_reports=df.groupby('Date')['Unit'].agg(['sum']).reset_index()\n",
    "daily_reports=pd.merge(daily_unit_reports,daily_sales_reports,how='inner',on='Date')\n",
    "daily_reports.columns=['Date','Unit','Sales']\n",
    "daily_reports"
   ]
  },
  {
   "cell_type": "code",
   "execution_count": 24,
   "id": "28718380-ba47-4d8f-8d83-c59e11b778a0",
   "metadata": {},
   "outputs": [
    {
     "name": "stderr",
     "output_type": "stream",
     "text": [
      "No artists with labels found to put in legend.  Note that artists whose label start with an underscore are ignored when legend() is called with no argument.\n"
     ]
    },
    {
     "data": {
      "image/png": "[encoded data removed]",
      "text/plain": [
       "<Figure size 432x288 with 1 Axes>"
      ]
     },
     "metadata": {
      "needs_background": "light"
     },
     "output_type": "display_data"
    }
   ],
   "source": [
    "sns.boxplot(data=daily_reports,x='Sales')\n",
    "plt.legend()\n",
    "plt.show()"
   ]
  },
  {
   "cell_type": "code",
   "execution_count": 25,
   "id": "d551cb13-eb2e-4d07-ae27-5efccfb6db86",
   "metadata": {},
   "outputs": [
    {
     "name": "stdout",
     "output_type": "stream",
     "text": [
      "0.0\n",
      "0.0\n",
      "0.1111111111111111\n",
      "0.07142857142857142\n",
      "0.0\n",
      "-0.04\n",
      "0.07692307692307693\n"
     ]
    }
   ],
   "source": [
    "from statsmodels.stats.stattools import medcouple\n",
    "from statsmodels.stats.stattools import robust_kurtosis\n",
    "for x in df['State'].unique():\n",
    "    skewness=medcouple(df[df['State']==x]['Sales'])\n",
    "    print(skewness)"
   ]
  },
  {
   "cell_type": "code",
   "execution_count": 31,
   "id": "c044843d-5ada-4687-960e-976b975bef71",
   "metadata": {},
   "outputs": [
    {
     "name": "stderr",
     "output_type": "stream",
     "text": [
      "No artists with labels found to put in legend.  Note that artists whose label start with an underscore are ignored when legend() is called with no argument.\n"
     ]
    },
    {
     "data": {
      "image/png": "[encoded data removed]",
      "text/plain": [
       "<Figure size 432x288 with 1 Axes>"
      ]
     },
     "metadata": {
      "needs_background": "light"
     },
     "output_type": "display_data"
    },
    {
     "name": "stderr",
     "output_type": "stream",
     "text": [
      "No artists with labels found to put in legend.  Note that artists whose label start with an underscore are ignored when legend() is called with no argument.\n"
     ]
    },
    {
     "data": {
      "image/png": "[encoded data removed]",
      "text/plain": [
       "<Figure size 432x288 with 1 Axes>"
      ]
     },
     "metadata": {
      "needs_background": "light"
     },
     "output_type": "display_data"
    },
    {
     "name": "stderr",
     "output_type": "stream",
     "text": [
      "No artists with labels found to put in legend.  Note that artists whose label start with an underscore are ignored when legend() is called with no argument.\n"
     ]
    },
    {
     "data": {
      "image/png": "[encoded data removed]",
      "text/plain": [
       "<Figure size 432x288 with 1 Axes>"
      ]
     },
     "metadata": {
      "needs_background": "light"
     },
     "output_type": "display_data"
    },
    {
     "name": "stderr",
     "output_type": "stream",
     "text": [
      "No artists with labels found to put in legend.  Note that artists whose label start with an underscore are ignored when legend() is called with no argument.\n"
     ]
    },
    {
     "data": {
      "image/png": "[encoded data removed]",
      "text/plain": [
       "<Figure size 432x288 with 1 Axes>"
      ]
     },
     "metadata": {
      "needs_background": "light"
     },
     "output_type": "display_data"
    },
    {
     "name": "stderr",
     "output_type": "stream",
     "text": [
      "No artists with labels found to put in legend.  Note that artists whose label start with an underscore are ignored when legend() is called with no argument.\n"
     ]
    },
    {
     "data": {
      "image/png": "[encoded data removed]",
      "text/plain": [
       "<Figure size 432x288 with 1 Axes>"
      ]
     },
     "metadata": {
      "needs_background": "light"
     },
     "output_type": "display_data"
    },
    {
     "name": "stderr",
     "output_type": "stream",
     "text": [
      "No artists with labels found to put in legend.  Note that artists whose label start with an underscore are ignored when legend() is called with no argument.\n"
     ]
    },
    {
     "data": {
      "image/png": "[encoded data removed]",
      "text/plain": [
       "<Figure size 432x288 with 1 Axes>"
      ]
     },
     "metadata": {
      "needs_background": "light"
     },
     "output_type": "display_data"
    },
    {
     "name": "stderr",
     "output_type": "stream",
     "text": [
      "No artists with labels found to put in legend.  Note that artists whose label start with an underscore are ignored when legend() is called with no argument.\n"
     ]
    },
    {
     "data": {
      "image/png": "[encoded data removed]",
      "text/plain": [
       "<Figure size 432x288 with 1 Axes>"
      ]
     },
     "metadata": {
      "needs_background": "light"
     },
     "output_type": "display_data"
    }
   ],
   "source": [
    "from scipy.stats import gaussian_kde\n",
    "for x in df['State'].unique():\n",
    "    plt.hist(df[df['State']==x]['Sales'],density=True,bins=30)\n",
    "    kde=gaussian_kde(df[df['State']==x]['Sales'])\n",
    "    kde_xs=np.linspace(df[df['State']==x]['Sales'].min(),df[df['State']==x]['Sales'].max(),1000)\n",
    "    kde_ys=kde(kde_xs)\n",
    "    plt.plot(kde_xs,kde_ys,color='red')\n",
    "    plt.xlabel(x)\n",
    "    plt.ylabel('count')\n",
    "    plt.legend()\n",
    "    plt.show()"
   ]
  },
  {
   "cell_type": "code",
   "execution_count": 30,
   "id": "8c5ac894-57fa-402b-9693-aa3271eeeb36",
   "metadata": {},
   "outputs": [
    {
     "name": "stderr",
     "output_type": "stream",
     "text": [
      "No artists with labels found to put in legend.  Note that artists whose label start with an underscore are ignored when legend() is called with no argument.\n"
     ]
    },
    {
     "data": {
      "image/png": "[encoded data removed]",
      "text/plain": [
       "<Figure size 432x288 with 1 Axes>"
      ]
     },
     "metadata": {
      "needs_background": "light"
     },
     "output_type": "display_data"
    },
    {
     "name": "stderr",
     "output_type": "stream",
     "text": [
      "No artists with labels found to put in legend.  Note that artists whose label start with an underscore are ignored when legend() is called with no argument.\n"
     ]
    },
    {
     "data": {
      "image/png": "[encoded data removed]",
      "text/plain": [
       "<Figure size 432x288 with 1 Axes>"
      ]
     },
     "metadata": {
      "needs_background": "light"
     },
     "output_type": "display_data"
    },
    {
     "name": "stderr",
     "output_type": "stream",
     "text": [
      "No artists with labels found to put in legend.  Note that artists whose label start with an underscore are ignored when legend() is called with no argument.\n"
     ]
    },
    {
     "data": {
      "image/png": "[encoded data removed]",
      "text/plain": [
       "<Figure size 432x288 with 1 Axes>"
      ]
     },
     "metadata": {
      "needs_background": "light"
     },
     "output_type": "display_data"
    },
    {
     "name": "stderr",
     "output_type": "stream",
     "text": [
      "No artists with labels found to put in legend.  Note that artists whose label start with an underscore are ignored when legend() is called with no argument.\n"
     ]
    },
    {
     "data": {
      "image/png": "[encoded data removed]",
      "text/plain": [
       "<Figure size 432x288 with 1 Axes>"
      ]
     },
     "metadata": {
      "needs_background": "light"
     },
     "output_type": "display_data"
    },
    {
     "name": "stderr",
     "output_type": "stream",
     "text": [
      "No artists with labels found to put in legend.  Note that artists whose label start with an underscore are ignored when legend() is called with no argument.\n"
     ]
    },
    {
     "data": {
      "image/png": "[encoded data removed]",
      "text/plain": [
       "<Figure size 432x288 with 1 Axes>"
      ]
     },
     "metadata": {
      "needs_background": "light"
     },
     "output_type": "display_data"
    },
    {
     "name": "stderr",
     "output_type": "stream",
     "text": [
      "No artists with labels found to put in legend.  Note that artists whose label start with an underscore are ignored when legend() is called with no argument.\n"
     ]
    },
    {
     "data": {
      "image/png": "[encoded data removed]",
      "text/plain": [
       "<Figure size 432x288 with 1 Axes>"
      ]
     },
     "metadata": {
      "needs_background": "light"
     },
     "output_type": "display_data"
    },
    {
     "name": "stderr",
     "output_type": "stream",
     "text": [
      "No artists with labels found to put in legend.  Note that artists whose label start with an underscore are ignored when legend() is called with no argument.\n"
     ]
    },
    {
     "data": {
      "image/png": "[encoded data removed]",
      "text/plain": [
       "<Figure size 432x288 with 1 Axes>"
      ]
     },
     "metadata": {
      "needs_background": "light"
     },
     "output_type": "display_data"
    }
   ],
   "source": [
    "from scipy.stats import gaussian_kde\n",
    "for x in df['State'].unique():\n",
    "    plt.boxplot(df[df['State']==x]['Sales'],vert=False)\n",
    "    plt.xlabel(x)\n",
    "    plt.ylabel('count')\n",
    "    plt.legend()\n",
    "    plt.show()"
   ]
  },
  {
   "cell_type": "markdown",
   "id": "f5c4d893-4c5c-402f-99de-7d47f3f2fc85",
   "metadata": {},
   "source": [
    "The Sales dataset does not contain any outlier\n"
   ]
  },
  {
   "cell_type": "code",
   "execution_count": 49,
   "id": "c3118f12-6153-4ae4-8e30-c6cf5ace10d7",
   "metadata": {},
   "outputs": [],
   "source": [
    "week_day=pd.date_range(start='2020-10-01',end='2020-12-30',freq='7D')"
   ]
  },
  {
   "cell_type": "code",
   "execution_count": 50,
   "id": "bfc5710e-ce6f-42a8-9eb2-d3b3cb3ed41d",
   "metadata": {},
   "outputs": [
    {
     "data": {
      "text/html": [
       "<div>\n",
       "<style scoped>\n",
       "    .dataframe tbody tr th:only-of-type {\n",
       "        vertical-align: middle;\n",
       "    }\n",
       "\n",
       "    .dataframe tbody tr th {\n",
       "        vertical-align: top;\n",
       "    }\n",
       "\n",
       "    .dataframe thead th {\n",
       "        text-align: right;\n",
       "    }\n",
       "</style>\n",
       "<table border=\"1\" class=\"dataframe\">\n",
       "  <thead>\n",
       "    <tr style=\"text-align: right;\">\n",
       "      <th></th>\n",
       "      <th>Date</th>\n",
       "      <th>Unit</th>\n",
       "      <th>Sales</th>\n",
       "      <th>Week_category</th>\n",
       "      <th>Month_category</th>\n",
       "    </tr>\n",
       "  </thead>\n",
       "  <tbody>\n",
       "    <tr>\n",
       "      <th>0</th>\n",
       "      <td>2020-10-01</td>\n",
       "      <td>1488</td>\n",
       "      <td>3720000</td>\n",
       "      <td>1</td>\n",
       "      <td>1</td>\n",
       "    </tr>\n",
       "    <tr>\n",
       "      <th>1</th>\n",
       "      <td>2020-10-02</td>\n",
       "      <td>1486</td>\n",
       "      <td>3715000</td>\n",
       "      <td>1</td>\n",
       "      <td>1</td>\n",
       "    </tr>\n",
       "    <tr>\n",
       "      <th>2</th>\n",
       "      <td>2020-10-03</td>\n",
       "      <td>1556</td>\n",
       "      <td>3890000</td>\n",
       "      <td>1</td>\n",
       "      <td>1</td>\n",
       "    </tr>\n",
       "    <tr>\n",
       "      <th>3</th>\n",
       "      <td>2020-10-04</td>\n",
       "      <td>1488</td>\n",
       "      <td>3720000</td>\n",
       "      <td>1</td>\n",
       "      <td>1</td>\n",
       "    </tr>\n",
       "    <tr>\n",
       "      <th>4</th>\n",
       "      <td>2020-10-05</td>\n",
       "      <td>1545</td>\n",
       "      <td>3862500</td>\n",
       "      <td>1</td>\n",
       "      <td>1</td>\n",
       "    </tr>\n",
       "    <tr>\n",
       "      <th>...</th>\n",
       "      <td>...</td>\n",
       "      <td>...</td>\n",
       "      <td>...</td>\n",
       "      <td>...</td>\n",
       "      <td>...</td>\n",
       "    </tr>\n",
       "    <tr>\n",
       "      <th>85</th>\n",
       "      <td>2020-12-26</td>\n",
       "      <td>1886</td>\n",
       "      <td>4715000</td>\n",
       "      <td>13</td>\n",
       "      <td>3</td>\n",
       "    </tr>\n",
       "    <tr>\n",
       "      <th>86</th>\n",
       "      <td>2020-12-27</td>\n",
       "      <td>1855</td>\n",
       "      <td>4637500</td>\n",
       "      <td>13</td>\n",
       "      <td>3</td>\n",
       "    </tr>\n",
       "    <tr>\n",
       "      <th>87</th>\n",
       "      <td>2020-12-28</td>\n",
       "      <td>1838</td>\n",
       "      <td>4595000</td>\n",
       "      <td>13</td>\n",
       "      <td>3</td>\n",
       "    </tr>\n",
       "    <tr>\n",
       "      <th>88</th>\n",
       "      <td>2020-12-29</td>\n",
       "      <td>1843</td>\n",
       "      <td>4607500</td>\n",
       "      <td>13</td>\n",
       "      <td>3</td>\n",
       "    </tr>\n",
       "    <tr>\n",
       "      <th>89</th>\n",
       "      <td>2020-12-30</td>\n",
       "      <td>1836</td>\n",
       "      <td>4590000</td>\n",
       "      <td>13</td>\n",
       "      <td>3</td>\n",
       "    </tr>\n",
       "  </tbody>\n",
       "</table>\n",
       "<p>90 rows × 5 columns</p>\n",
       "</div>"
      ],
      "text/plain": [
       "         Date  Unit    Sales Week_category Month_category\n",
       "0  2020-10-01  1488  3720000             1              1\n",
       "1  2020-10-02  1486  3715000             1              1\n",
       "2  2020-10-03  1556  3890000             1              1\n",
       "3  2020-10-04  1488  3720000             1              1\n",
       "4  2020-10-05  1545  3862500             1              1\n",
       "..        ...   ...      ...           ...            ...\n",
       "85 2020-12-26  1886  4715000            13              3\n",
       "86 2020-12-27  1855  4637500            13              3\n",
       "87 2020-12-28  1838  4595000            13              3\n",
       "88 2020-12-29  1843  4607500            13              3\n",
       "89 2020-12-30  1836  4590000            13              3\n",
       "\n",
       "[90 rows x 5 columns]"
      ]
     },
     "execution_count": 50,
     "metadata": {},
     "output_type": "execute_result"
    }
   ],
   "source": [
    "count=1\n",
    "for x in week_day:\n",
    "    for y in pd.date_range(start=x,periods=7,freq='D'):\n",
    "        daily_reports.loc[daily_reports['Date']==y,'Week_category']=str(count)\n",
    "    count=count+1\n",
    "daily_reports"
   ]
  },
  {
   "cell_type": "code",
   "execution_count": 51,
   "id": "76af7c44-68c0-4dde-8d51-458f89368a18",
   "metadata": {},
   "outputs": [
    {
     "data": {
      "text/html": [
       "<div>\n",
       "<style scoped>\n",
       "    .dataframe tbody tr th:only-of-type {\n",
       "        vertical-align: middle;\n",
       "    }\n",
       "\n",
       "    .dataframe tbody tr th {\n",
       "        vertical-align: top;\n",
       "    }\n",
       "\n",
       "    .dataframe thead tr th {\n",
       "        text-align: left;\n",
       "    }\n",
       "</style>\n",
       "<table border=\"1\" class=\"dataframe\">\n",
       "  <thead>\n",
       "    <tr>\n",
       "      <th></th>\n",
       "      <th>Week_category</th>\n",
       "      <th colspan=\"7\" halign=\"left\">Sales</th>\n",
       "      <th colspan=\"7\" halign=\"left\">Unit</th>\n",
       "    </tr>\n",
       "    <tr>\n",
       "      <th></th>\n",
       "      <th></th>\n",
       "      <th>sum</th>\n",
       "      <th>mean</th>\n",
       "      <th>median</th>\n",
       "      <th>std</th>\n",
       "      <th>var</th>\n",
       "      <th>min</th>\n",
       "      <th>max</th>\n",
       "      <th>sum</th>\n",
       "      <th>mean</th>\n",
       "      <th>median</th>\n",
       "      <th>std</th>\n",
       "      <th>var</th>\n",
       "      <th>min</th>\n",
       "      <th>max</th>\n",
       "    </tr>\n",
       "  </thead>\n",
       "  <tbody>\n",
       "    <tr>\n",
       "      <th>0</th>\n",
       "      <td>1</td>\n",
       "      <td>26580000</td>\n",
       "      <td>3.797143e+06</td>\n",
       "      <td>3720000.0</td>\n",
       "      <td>104267.570176</td>\n",
       "      <td>1.087173e+10</td>\n",
       "      <td>3712500</td>\n",
       "      <td>3960000</td>\n",
       "      <td>10632</td>\n",
       "      <td>1518.857143</td>\n",
       "      <td>1488.0</td>\n",
       "      <td>41.707028</td>\n",
       "      <td>1739.476190</td>\n",
       "      <td>1485</td>\n",
       "      <td>1584</td>\n",
       "    </tr>\n",
       "    <tr>\n",
       "      <th>1</th>\n",
       "      <td>10</td>\n",
       "      <td>31022500</td>\n",
       "      <td>4.431786e+06</td>\n",
       "      <td>4482500.0</td>\n",
       "      <td>212042.224007</td>\n",
       "      <td>4.496190e+10</td>\n",
       "      <td>4060000</td>\n",
       "      <td>4655000</td>\n",
       "      <td>12409</td>\n",
       "      <td>1772.714286</td>\n",
       "      <td>1793.0</td>\n",
       "      <td>84.816890</td>\n",
       "      <td>7193.904762</td>\n",
       "      <td>1624</td>\n",
       "      <td>1862</td>\n",
       "    </tr>\n",
       "    <tr>\n",
       "      <th>2</th>\n",
       "      <td>11</td>\n",
       "      <td>31917500</td>\n",
       "      <td>4.559643e+06</td>\n",
       "      <td>4605000.0</td>\n",
       "      <td>168593.622429</td>\n",
       "      <td>2.842381e+10</td>\n",
       "      <td>4327500</td>\n",
       "      <td>4765000</td>\n",
       "      <td>12767</td>\n",
       "      <td>1823.857143</td>\n",
       "      <td>1842.0</td>\n",
       "      <td>67.437449</td>\n",
       "      <td>4547.809524</td>\n",
       "      <td>1731</td>\n",
       "      <td>1906</td>\n",
       "    </tr>\n",
       "    <tr>\n",
       "      <th>3</th>\n",
       "      <td>12</td>\n",
       "      <td>31242500</td>\n",
       "      <td>4.463214e+06</td>\n",
       "      <td>4452500.0</td>\n",
       "      <td>100702.886893</td>\n",
       "      <td>1.014107e+10</td>\n",
       "      <td>4335000</td>\n",
       "      <td>4635000</td>\n",
       "      <td>12497</td>\n",
       "      <td>1785.285714</td>\n",
       "      <td>1781.0</td>\n",
       "      <td>40.281155</td>\n",
       "      <td>1622.571429</td>\n",
       "      <td>1734</td>\n",
       "      <td>1854</td>\n",
       "    </tr>\n",
       "    <tr>\n",
       "      <th>4</th>\n",
       "      <td>13</td>\n",
       "      <td>32117500</td>\n",
       "      <td>4.588214e+06</td>\n",
       "      <td>4595000.0</td>\n",
       "      <td>98527.854413</td>\n",
       "      <td>9.707738e+09</td>\n",
       "      <td>4390000</td>\n",
       "      <td>4715000</td>\n",
       "      <td>12847</td>\n",
       "      <td>1835.285714</td>\n",
       "      <td>1838.0</td>\n",
       "      <td>39.411142</td>\n",
       "      <td>1553.238095</td>\n",
       "      <td>1756</td>\n",
       "      <td>1886</td>\n",
       "    </tr>\n",
       "    <tr>\n",
       "      <th>5</th>\n",
       "      <td>2</td>\n",
       "      <td>27070000</td>\n",
       "      <td>3.867143e+06</td>\n",
       "      <td>3872500.0</td>\n",
       "      <td>120816.911856</td>\n",
       "      <td>1.459673e+10</td>\n",
       "      <td>3645000</td>\n",
       "      <td>4005000</td>\n",
       "      <td>10828</td>\n",
       "      <td>1546.857143</td>\n",
       "      <td>1549.0</td>\n",
       "      <td>48.326765</td>\n",
       "      <td>2335.476190</td>\n",
       "      <td>1458</td>\n",
       "      <td>1602</td>\n",
       "    </tr>\n",
       "    <tr>\n",
       "      <th>6</th>\n",
       "      <td>3</td>\n",
       "      <td>26577500</td>\n",
       "      <td>3.796786e+06</td>\n",
       "      <td>3795000.0</td>\n",
       "      <td>113143.661313</td>\n",
       "      <td>1.280149e+10</td>\n",
       "      <td>3652500</td>\n",
       "      <td>3960000</td>\n",
       "      <td>10631</td>\n",
       "      <td>1518.714286</td>\n",
       "      <td>1518.0</td>\n",
       "      <td>45.257465</td>\n",
       "      <td>2048.238095</td>\n",
       "      <td>1461</td>\n",
       "      <td>1584</td>\n",
       "    </tr>\n",
       "    <tr>\n",
       "      <th>7</th>\n",
       "      <td>4</td>\n",
       "      <td>26437500</td>\n",
       "      <td>3.776786e+06</td>\n",
       "      <td>3735000.0</td>\n",
       "      <td>110299.915814</td>\n",
       "      <td>1.216607e+10</td>\n",
       "      <td>3662500</td>\n",
       "      <td>3977500</td>\n",
       "      <td>10575</td>\n",
       "      <td>1510.714286</td>\n",
       "      <td>1494.0</td>\n",
       "      <td>44.119966</td>\n",
       "      <td>1946.571429</td>\n",
       "      <td>1465</td>\n",
       "      <td>1591</td>\n",
       "    </tr>\n",
       "    <tr>\n",
       "      <th>8</th>\n",
       "      <td>5</td>\n",
       "      <td>19390000</td>\n",
       "      <td>3.231667e+06</td>\n",
       "      <td>3081250.0</td>\n",
       "      <td>471133.385218</td>\n",
       "      <td>2.219667e+11</td>\n",
       "      <td>2725000</td>\n",
       "      <td>3822500</td>\n",
       "      <td>7756</td>\n",
       "      <td>1292.666667</td>\n",
       "      <td>1232.5</td>\n",
       "      <td>188.453354</td>\n",
       "      <td>35514.666667</td>\n",
       "      <td>1090</td>\n",
       "      <td>1529</td>\n",
       "    </tr>\n",
       "    <tr>\n",
       "      <th>9</th>\n",
       "      <td>6</td>\n",
       "      <td>20910000</td>\n",
       "      <td>2.987143e+06</td>\n",
       "      <td>2992500.0</td>\n",
       "      <td>127625.988173</td>\n",
       "      <td>1.628839e+10</td>\n",
       "      <td>2835000</td>\n",
       "      <td>3210000</td>\n",
       "      <td>8364</td>\n",
       "      <td>1194.857143</td>\n",
       "      <td>1197.0</td>\n",
       "      <td>51.050395</td>\n",
       "      <td>2606.142857</td>\n",
       "      <td>1134</td>\n",
       "      <td>1284</td>\n",
       "    </tr>\n",
       "    <tr>\n",
       "      <th>10</th>\n",
       "      <td>7</td>\n",
       "      <td>21545000</td>\n",
       "      <td>3.077857e+06</td>\n",
       "      <td>3060000.0</td>\n",
       "      <td>131501.176891</td>\n",
       "      <td>1.729256e+10</td>\n",
       "      <td>2877500</td>\n",
       "      <td>3290000</td>\n",
       "      <td>8618</td>\n",
       "      <td>1231.142857</td>\n",
       "      <td>1224.0</td>\n",
       "      <td>52.600471</td>\n",
       "      <td>2766.809524</td>\n",
       "      <td>1151</td>\n",
       "      <td>1316</td>\n",
       "    </tr>\n",
       "    <tr>\n",
       "      <th>11</th>\n",
       "      <td>8</td>\n",
       "      <td>21110000</td>\n",
       "      <td>3.015714e+06</td>\n",
       "      <td>3022500.0</td>\n",
       "      <td>107312.960208</td>\n",
       "      <td>1.151607e+10</td>\n",
       "      <td>2867500</td>\n",
       "      <td>3185000</td>\n",
       "      <td>8444</td>\n",
       "      <td>1206.285714</td>\n",
       "      <td>1209.0</td>\n",
       "      <td>42.925184</td>\n",
       "      <td>1842.571429</td>\n",
       "      <td>1147</td>\n",
       "      <td>1274</td>\n",
       "    </tr>\n",
       "    <tr>\n",
       "      <th>12</th>\n",
       "      <td>9</td>\n",
       "      <td>24382500</td>\n",
       "      <td>3.483214e+06</td>\n",
       "      <td>3075000.0</td>\n",
       "      <td>709927.687464</td>\n",
       "      <td>5.039973e+11</td>\n",
       "      <td>2982500</td>\n",
       "      <td>4565000</td>\n",
       "      <td>9753</td>\n",
       "      <td>1393.285714</td>\n",
       "      <td>1230.0</td>\n",
       "      <td>283.971075</td>\n",
       "      <td>80639.571429</td>\n",
       "      <td>1193</td>\n",
       "      <td>1826</td>\n",
       "    </tr>\n",
       "  </tbody>\n",
       "</table>\n",
       "</div>"
      ],
      "text/plain": [
       "   Week_category     Sales                                          \\\n",
       "                       sum          mean     median            std   \n",
       "0              1  26580000  3.797143e+06  3720000.0  104267.570176   \n",
       "1             10  31022500  4.431786e+06  4482500.0  212042.224007   \n",
       "2             11  31917500  4.559643e+06  4605000.0  168593.622429   \n",
       "3             12  31242500  4.463214e+06  4452500.0  100702.886893   \n",
       "4             13  32117500  4.588214e+06  4595000.0   98527.854413   \n",
       "5              2  27070000  3.867143e+06  3872500.0  120816.911856   \n",
       "6              3  26577500  3.796786e+06  3795000.0  113143.661313   \n",
       "7              4  26437500  3.776786e+06  3735000.0  110299.915814   \n",
       "8              5  19390000  3.231667e+06  3081250.0  471133.385218   \n",
       "9              6  20910000  2.987143e+06  2992500.0  127625.988173   \n",
       "10             7  21545000  3.077857e+06  3060000.0  131501.176891   \n",
       "11             8  21110000  3.015714e+06  3022500.0  107312.960208   \n",
       "12             9  24382500  3.483214e+06  3075000.0  709927.687464   \n",
       "\n",
       "                                     Unit                                   \\\n",
       "             var      min      max    sum         mean  median         std   \n",
       "0   1.087173e+10  3712500  3960000  10632  1518.857143  1488.0   41.707028   \n",
       "1   4.496190e+10  4060000  4655000  12409  1772.714286  1793.0   84.816890   \n",
       "2   2.842381e+10  4327500  4765000  12767  1823.857143  1842.0   67.437449   \n",
       "3   1.014107e+10  4335000  4635000  12497  1785.285714  1781.0   40.281155   \n",
       "4   9.707738e+09  4390000  4715000  12847  1835.285714  1838.0   39.411142   \n",
       "5   1.459673e+10  3645000  4005000  10828  1546.857143  1549.0   48.326765   \n",
       "6   1.280149e+10  3652500  3960000  10631  1518.714286  1518.0   45.257465   \n",
       "7   1.216607e+10  3662500  3977500  10575  1510.714286  1494.0   44.119966   \n",
       "8   2.219667e+11  2725000  3822500   7756  1292.666667  1232.5  188.453354   \n",
       "9   1.628839e+10  2835000  3210000   8364  1194.857143  1197.0   51.050395   \n",
       "10  1.729256e+10  2877500  3290000   8618  1231.142857  1224.0   52.600471   \n",
       "11  1.151607e+10  2867500  3185000   8444  1206.285714  1209.0   42.925184   \n",
       "12  5.039973e+11  2982500  4565000   9753  1393.285714  1230.0  283.971075   \n",
       "\n",
       "                              \n",
       "             var   min   max  \n",
       "0    1739.476190  1485  1584  \n",
       "1    7193.904762  1624  1862  \n",
       "2    4547.809524  1731  1906  \n",
       "3    1622.571429  1734  1854  \n",
       "4    1553.238095  1756  1886  \n",
       "5    2335.476190  1458  1602  \n",
       "6    2048.238095  1461  1584  \n",
       "7    1946.571429  1465  1591  \n",
       "8   35514.666667  1090  1529  \n",
       "9    2606.142857  1134  1284  \n",
       "10   2766.809524  1151  1316  \n",
       "11   1842.571429  1147  1274  \n",
       "12  80639.571429  1193  1826  "
      ]
     },
     "execution_count": 51,
     "metadata": {},
     "output_type": "execute_result"
    }
   ],
   "source": [
    "weekly_reports=daily_reports.groupby('Week_category')[['Sales','Unit']].agg(['sum','mean','median','std','var','min','max']).reset_index()\n",
    "weekly_reports"
   ]
  },
  {
   "cell_type": "code",
   "execution_count": 52,
   "id": "35eeb7e2-de1c-4320-b25a-d525c72793d6",
   "metadata": {},
   "outputs": [],
   "source": [
    "weekly_reports=weekly_reports.set_index('Week_category')"
   ]
  },
  {
   "cell_type": "code",
   "execution_count": 53,
   "id": "37a07e7f-9538-404a-a51b-5e29a903753a",
   "metadata": {},
   "outputs": [],
   "source": [
    "month_day=pd.date_range(start='2020-10-01',end='2020-12-29',freq='30D')"
   ]
  },
  {
   "cell_type": "code",
   "execution_count": 54,
   "id": "32a2cf71-62c9-48d7-b9f7-f43c1f923276",
   "metadata": {},
   "outputs": [
    {
     "data": {
      "text/html": [
       "<div>\n",
       "<style scoped>\n",
       "    .dataframe tbody tr th:only-of-type {\n",
       "        vertical-align: middle;\n",
       "    }\n",
       "\n",
       "    .dataframe tbody tr th {\n",
       "        vertical-align: top;\n",
       "    }\n",
       "\n",
       "    .dataframe thead th {\n",
       "        text-align: right;\n",
       "    }\n",
       "</style>\n",
       "<table border=\"1\" class=\"dataframe\">\n",
       "  <thead>\n",
       "    <tr style=\"text-align: right;\">\n",
       "      <th></th>\n",
       "      <th>Date</th>\n",
       "      <th>Unit</th>\n",
       "      <th>Sales</th>\n",
       "      <th>Week_category</th>\n",
       "      <th>Month_category</th>\n",
       "    </tr>\n",
       "  </thead>\n",
       "  <tbody>\n",
       "    <tr>\n",
       "      <th>0</th>\n",
       "      <td>2020-10-01</td>\n",
       "      <td>1488</td>\n",
       "      <td>3720000</td>\n",
       "      <td>1</td>\n",
       "      <td>1</td>\n",
       "    </tr>\n",
       "    <tr>\n",
       "      <th>1</th>\n",
       "      <td>2020-10-02</td>\n",
       "      <td>1486</td>\n",
       "      <td>3715000</td>\n",
       "      <td>1</td>\n",
       "      <td>1</td>\n",
       "    </tr>\n",
       "    <tr>\n",
       "      <th>2</th>\n",
       "      <td>2020-10-03</td>\n",
       "      <td>1556</td>\n",
       "      <td>3890000</td>\n",
       "      <td>1</td>\n",
       "      <td>1</td>\n",
       "    </tr>\n",
       "    <tr>\n",
       "      <th>3</th>\n",
       "      <td>2020-10-04</td>\n",
       "      <td>1488</td>\n",
       "      <td>3720000</td>\n",
       "      <td>1</td>\n",
       "      <td>1</td>\n",
       "    </tr>\n",
       "    <tr>\n",
       "      <th>4</th>\n",
       "      <td>2020-10-05</td>\n",
       "      <td>1545</td>\n",
       "      <td>3862500</td>\n",
       "      <td>1</td>\n",
       "      <td>1</td>\n",
       "    </tr>\n",
       "    <tr>\n",
       "      <th>...</th>\n",
       "      <td>...</td>\n",
       "      <td>...</td>\n",
       "      <td>...</td>\n",
       "      <td>...</td>\n",
       "      <td>...</td>\n",
       "    </tr>\n",
       "    <tr>\n",
       "      <th>85</th>\n",
       "      <td>2020-12-26</td>\n",
       "      <td>1886</td>\n",
       "      <td>4715000</td>\n",
       "      <td>13</td>\n",
       "      <td>3</td>\n",
       "    </tr>\n",
       "    <tr>\n",
       "      <th>86</th>\n",
       "      <td>2020-12-27</td>\n",
       "      <td>1855</td>\n",
       "      <td>4637500</td>\n",
       "      <td>13</td>\n",
       "      <td>3</td>\n",
       "    </tr>\n",
       "    <tr>\n",
       "      <th>87</th>\n",
       "      <td>2020-12-28</td>\n",
       "      <td>1838</td>\n",
       "      <td>4595000</td>\n",
       "      <td>13</td>\n",
       "      <td>3</td>\n",
       "    </tr>\n",
       "    <tr>\n",
       "      <th>88</th>\n",
       "      <td>2020-12-29</td>\n",
       "      <td>1843</td>\n",
       "      <td>4607500</td>\n",
       "      <td>13</td>\n",
       "      <td>3</td>\n",
       "    </tr>\n",
       "    <tr>\n",
       "      <th>89</th>\n",
       "      <td>2020-12-30</td>\n",
       "      <td>1836</td>\n",
       "      <td>4590000</td>\n",
       "      <td>13</td>\n",
       "      <td>3</td>\n",
       "    </tr>\n",
       "  </tbody>\n",
       "</table>\n",
       "<p>90 rows × 5 columns</p>\n",
       "</div>"
      ],
      "text/plain": [
       "         Date  Unit    Sales Week_category Month_category\n",
       "0  2020-10-01  1488  3720000             1              1\n",
       "1  2020-10-02  1486  3715000             1              1\n",
       "2  2020-10-03  1556  3890000             1              1\n",
       "3  2020-10-04  1488  3720000             1              1\n",
       "4  2020-10-05  1545  3862500             1              1\n",
       "..        ...   ...      ...           ...            ...\n",
       "85 2020-12-26  1886  4715000            13              3\n",
       "86 2020-12-27  1855  4637500            13              3\n",
       "87 2020-12-28  1838  4595000            13              3\n",
       "88 2020-12-29  1843  4607500            13              3\n",
       "89 2020-12-30  1836  4590000            13              3\n",
       "\n",
       "[90 rows x 5 columns]"
      ]
     },
     "execution_count": 54,
     "metadata": {},
     "output_type": "execute_result"
    }
   ],
   "source": [
    "count=1\n",
    "for x in month_day:\n",
    "    for y in pd.date_range(start=x,periods=31,freq='D'):\n",
    "        daily_reports.loc[daily_reports['Date']==y,'Month_category']=str(count)\n",
    "    count=count+1\n",
    "daily_reports"
   ]
  },
  {
   "cell_type": "code",
   "execution_count": 55,
   "id": "4ba68910-21ec-4f91-a74d-fac953f74ae1",
   "metadata": {},
   "outputs": [
    {
     "data": {
      "text/html": [
       "<div>\n",
       "<style scoped>\n",
       "    .dataframe tbody tr th:only-of-type {\n",
       "        vertical-align: middle;\n",
       "    }\n",
       "\n",
       "    .dataframe tbody tr th {\n",
       "        vertical-align: top;\n",
       "    }\n",
       "\n",
       "    .dataframe thead tr th {\n",
       "        text-align: left;\n",
       "    }\n",
       "</style>\n",
       "<table border=\"1\" class=\"dataframe\">\n",
       "  <thead>\n",
       "    <tr>\n",
       "      <th></th>\n",
       "      <th>Month_category</th>\n",
       "      <th colspan=\"7\" halign=\"left\">Sales</th>\n",
       "      <th colspan=\"7\" halign=\"left\">Unit</th>\n",
       "    </tr>\n",
       "    <tr>\n",
       "      <th></th>\n",
       "      <th></th>\n",
       "      <th>sum</th>\n",
       "      <th>mean</th>\n",
       "      <th>median</th>\n",
       "      <th>min</th>\n",
       "      <th>max</th>\n",
       "      <th>std</th>\n",
       "      <th>var</th>\n",
       "      <th>sum</th>\n",
       "      <th>mean</th>\n",
       "      <th>median</th>\n",
       "      <th>min</th>\n",
       "      <th>max</th>\n",
       "      <th>std</th>\n",
       "      <th>var</th>\n",
       "    </tr>\n",
       "  </thead>\n",
       "  <tbody>\n",
       "    <tr>\n",
       "      <th>0</th>\n",
       "      <td>1</td>\n",
       "      <td>114290000</td>\n",
       "      <td>3.809667e+06</td>\n",
       "      <td>3798750.0</td>\n",
       "      <td>3645000</td>\n",
       "      <td>4005000</td>\n",
       "      <td>107604.667035</td>\n",
       "      <td>1.157876e+10</td>\n",
       "      <td>45716</td>\n",
       "      <td>1523.866667</td>\n",
       "      <td>1519.5</td>\n",
       "      <td>1458</td>\n",
       "      <td>1602</td>\n",
       "      <td>43.041867</td>\n",
       "      <td>1852.602299</td>\n",
       "    </tr>\n",
       "    <tr>\n",
       "      <th>1</th>\n",
       "      <td>2</td>\n",
       "      <td>87647500</td>\n",
       "      <td>3.022328e+06</td>\n",
       "      <td>3022500.0</td>\n",
       "      <td>2725000</td>\n",
       "      <td>3290000</td>\n",
       "      <td>130186.903820</td>\n",
       "      <td>1.694863e+10</td>\n",
       "      <td>35059</td>\n",
       "      <td>1208.931034</td>\n",
       "      <td>1209.0</td>\n",
       "      <td>1090</td>\n",
       "      <td>1316</td>\n",
       "      <td>52.074762</td>\n",
       "      <td>2711.780788</td>\n",
       "    </tr>\n",
       "    <tr>\n",
       "      <th>2</th>\n",
       "      <td>3</td>\n",
       "      <td>138365000</td>\n",
       "      <td>4.463387e+06</td>\n",
       "      <td>4505000.0</td>\n",
       "      <td>3035000</td>\n",
       "      <td>4765000</td>\n",
       "      <td>305010.620298</td>\n",
       "      <td>9.303148e+10</td>\n",
       "      <td>55346</td>\n",
       "      <td>1785.354839</td>\n",
       "      <td>1802.0</td>\n",
       "      <td>1214</td>\n",
       "      <td>1906</td>\n",
       "      <td>122.004248</td>\n",
       "      <td>14885.036559</td>\n",
       "    </tr>\n",
       "  </tbody>\n",
       "</table>\n",
       "</div>"
      ],
      "text/plain": [
       "  Month_category      Sales                                             \\\n",
       "                        sum          mean     median      min      max   \n",
       "0              1  114290000  3.809667e+06  3798750.0  3645000  4005000   \n",
       "1              2   87647500  3.022328e+06  3022500.0  2725000  3290000   \n",
       "2              3  138365000  4.463387e+06  4505000.0  3035000  4765000   \n",
       "\n",
       "                                 Unit                                   \\\n",
       "             std           var    sum         mean  median   min   max   \n",
       "0  107604.667035  1.157876e+10  45716  1523.866667  1519.5  1458  1602   \n",
       "1  130186.903820  1.694863e+10  35059  1208.931034  1209.0  1090  1316   \n",
       "2  305010.620298  9.303148e+10  55346  1785.354839  1802.0  1214  1906   \n",
       "\n",
       "                             \n",
       "          std           var  \n",
       "0   43.041867   1852.602299  \n",
       "1   52.074762   2711.780788  \n",
       "2  122.004248  14885.036559  "
      ]
     },
     "execution_count": 55,
     "metadata": {},
     "output_type": "execute_result"
    }
   ],
   "source": [
    "monthly_report=daily_reports.groupby('Month_category')[['Sales','Unit']].agg(['sum','mean','median','min','max','std','var']).reset_index()\n",
    "monthly_report"
   ]
  },
  {
   "cell_type": "markdown",
   "id": "3c49dea7-cacc-438d-9bd2-879a7fbee77a",
   "metadata": {},
   "source": [
    "## __Data Visualization__\n"
   ]
  },
  {
   "cell_type": "code",
   "execution_count": 39,
   "id": "9a5674c1-a7b7-4a30-a4a5-7e246f03bfa2",
   "metadata": {},
   "outputs": [
    {
     "data": {
      "image/png": "[encoded data removed]",
      "text/plain": [
       "<Figure size 432x288 with 1 Axes>"
      ]
     },
     "metadata": {
      "needs_background": "light"
     },
     "output_type": "display_data"
    }
   ],
   "source": [
    "sns.barplot(data=df,x='State',y='Sales',hue='Group')\n",
    "plt.legend()\n",
    "plt.show()"
   ]
  },
  {
   "cell_type": "code",
   "execution_count": 40,
   "id": "cc642c96-5c1c-41db-836f-64dc38e609db",
   "metadata": {},
   "outputs": [
    {
     "data": {
      "image/png": "[encoded data removed]",
      "text/plain": [
       "<Figure size 432x288 with 1 Axes>"
      ]
     },
     "metadata": {
      "needs_background": "light"
     },
     "output_type": "display_data"
    }
   ],
   "source": [
    "sns.barplot(data=df,x='Group',y='Sales',hue='State')\n",
    "plt.legend()\n",
    "plt.show()"
   ]
  },
  {
   "cell_type": "code",
   "execution_count": 41,
   "id": "810fb427-f9af-421c-98fb-6359bf906793",
   "metadata": {},
   "outputs": [
    {
     "data": {
      "image/png": "[encoded data removed]",
      "text/plain": [
       "<Figure size 432x288 with 1 Axes>"
      ]
     },
     "metadata": {
      "needs_background": "light"
     },
     "output_type": "display_data"
    }
   ],
   "source": [
    "sns.lineplot(data=df,x='Date',y='Sales',hue='Time')\n",
    "plt.legend()\n",
    "plt.show()"
   ]
  },
  {
   "cell_type": "code",
   "execution_count": 42,
   "id": "220a1e41-4595-4b80-b642-fb71014b5c7c",
   "metadata": {},
   "outputs": [
    {
     "data": {
      "text/html": [
       "<div>\n",
       "<style scoped>\n",
       "    .dataframe tbody tr th:only-of-type {\n",
       "        vertical-align: middle;\n",
       "    }\n",
       "\n",
       "    .dataframe tbody tr th {\n",
       "        vertical-align: top;\n",
       "    }\n",
       "\n",
       "    .dataframe thead th {\n",
       "        text-align: right;\n",
       "    }\n",
       "</style>\n",
       "<table border=\"1\" class=\"dataframe\">\n",
       "  <thead>\n",
       "    <tr style=\"text-align: right;\">\n",
       "      <th></th>\n",
       "      <th>Week_category</th>\n",
       "      <th>sum</th>\n",
       "      <th>mean</th>\n",
       "      <th>median</th>\n",
       "      <th>std</th>\n",
       "      <th>var</th>\n",
       "      <th>min</th>\n",
       "      <th>max</th>\n",
       "    </tr>\n",
       "  </thead>\n",
       "  <tbody>\n",
       "    <tr>\n",
       "      <th>0</th>\n",
       "      <td>1</td>\n",
       "      <td>26580000</td>\n",
       "      <td>3.797143e+06</td>\n",
       "      <td>3720000.0</td>\n",
       "      <td>104267.570176</td>\n",
       "      <td>1.087173e+10</td>\n",
       "      <td>3712500</td>\n",
       "      <td>3960000</td>\n",
       "    </tr>\n",
       "    <tr>\n",
       "      <th>1</th>\n",
       "      <td>10</td>\n",
       "      <td>31022500</td>\n",
       "      <td>4.431786e+06</td>\n",
       "      <td>4482500.0</td>\n",
       "      <td>212042.224007</td>\n",
       "      <td>4.496190e+10</td>\n",
       "      <td>4060000</td>\n",
       "      <td>4655000</td>\n",
       "    </tr>\n",
       "    <tr>\n",
       "      <th>2</th>\n",
       "      <td>11</td>\n",
       "      <td>31917500</td>\n",
       "      <td>4.559643e+06</td>\n",
       "      <td>4605000.0</td>\n",
       "      <td>168593.622429</td>\n",
       "      <td>2.842381e+10</td>\n",
       "      <td>4327500</td>\n",
       "      <td>4765000</td>\n",
       "    </tr>\n",
       "    <tr>\n",
       "      <th>3</th>\n",
       "      <td>12</td>\n",
       "      <td>31242500</td>\n",
       "      <td>4.463214e+06</td>\n",
       "      <td>4452500.0</td>\n",
       "      <td>100702.886893</td>\n",
       "      <td>1.014107e+10</td>\n",
       "      <td>4335000</td>\n",
       "      <td>4635000</td>\n",
       "    </tr>\n",
       "    <tr>\n",
       "      <th>4</th>\n",
       "      <td>13</td>\n",
       "      <td>32117500</td>\n",
       "      <td>4.588214e+06</td>\n",
       "      <td>4595000.0</td>\n",
       "      <td>98527.854413</td>\n",
       "      <td>9.707738e+09</td>\n",
       "      <td>4390000</td>\n",
       "      <td>4715000</td>\n",
       "    </tr>\n",
       "    <tr>\n",
       "      <th>5</th>\n",
       "      <td>2</td>\n",
       "      <td>27070000</td>\n",
       "      <td>3.867143e+06</td>\n",
       "      <td>3872500.0</td>\n",
       "      <td>120816.911856</td>\n",
       "      <td>1.459673e+10</td>\n",
       "      <td>3645000</td>\n",
       "      <td>4005000</td>\n",
       "    </tr>\n",
       "    <tr>\n",
       "      <th>6</th>\n",
       "      <td>3</td>\n",
       "      <td>26577500</td>\n",
       "      <td>3.796786e+06</td>\n",
       "      <td>3795000.0</td>\n",
       "      <td>113143.661313</td>\n",
       "      <td>1.280149e+10</td>\n",
       "      <td>3652500</td>\n",
       "      <td>3960000</td>\n",
       "    </tr>\n",
       "    <tr>\n",
       "      <th>7</th>\n",
       "      <td>4</td>\n",
       "      <td>26437500</td>\n",
       "      <td>3.776786e+06</td>\n",
       "      <td>3735000.0</td>\n",
       "      <td>110299.915814</td>\n",
       "      <td>1.216607e+10</td>\n",
       "      <td>3662500</td>\n",
       "      <td>3977500</td>\n",
       "    </tr>\n",
       "    <tr>\n",
       "      <th>8</th>\n",
       "      <td>5</td>\n",
       "      <td>19390000</td>\n",
       "      <td>3.231667e+06</td>\n",
       "      <td>3081250.0</td>\n",
       "      <td>471133.385218</td>\n",
       "      <td>2.219667e+11</td>\n",
       "      <td>2725000</td>\n",
       "      <td>3822500</td>\n",
       "    </tr>\n",
       "    <tr>\n",
       "      <th>9</th>\n",
       "      <td>6</td>\n",
       "      <td>20910000</td>\n",
       "      <td>2.987143e+06</td>\n",
       "      <td>2992500.0</td>\n",
       "      <td>127625.988173</td>\n",
       "      <td>1.628839e+10</td>\n",
       "      <td>2835000</td>\n",
       "      <td>3210000</td>\n",
       "    </tr>\n",
       "    <tr>\n",
       "      <th>10</th>\n",
       "      <td>7</td>\n",
       "      <td>21545000</td>\n",
       "      <td>3.077857e+06</td>\n",
       "      <td>3060000.0</td>\n",
       "      <td>131501.176891</td>\n",
       "      <td>1.729256e+10</td>\n",
       "      <td>2877500</td>\n",
       "      <td>3290000</td>\n",
       "    </tr>\n",
       "    <tr>\n",
       "      <th>11</th>\n",
       "      <td>8</td>\n",
       "      <td>21110000</td>\n",
       "      <td>3.015714e+06</td>\n",
       "      <td>3022500.0</td>\n",
       "      <td>107312.960208</td>\n",
       "      <td>1.151607e+10</td>\n",
       "      <td>2867500</td>\n",
       "      <td>3185000</td>\n",
       "    </tr>\n",
       "    <tr>\n",
       "      <th>12</th>\n",
       "      <td>9</td>\n",
       "      <td>24382500</td>\n",
       "      <td>3.483214e+06</td>\n",
       "      <td>3075000.0</td>\n",
       "      <td>709927.687464</td>\n",
       "      <td>5.039973e+11</td>\n",
       "      <td>2982500</td>\n",
       "      <td>4565000</td>\n",
       "    </tr>\n",
       "  </tbody>\n",
       "</table>\n",
       "</div>"
      ],
      "text/plain": [
       "   Week_category       sum          mean     median            std  \\\n",
       "0              1  26580000  3.797143e+06  3720000.0  104267.570176   \n",
       "1             10  31022500  4.431786e+06  4482500.0  212042.224007   \n",
       "2             11  31917500  4.559643e+06  4605000.0  168593.622429   \n",
       "3             12  31242500  4.463214e+06  4452500.0  100702.886893   \n",
       "4             13  32117500  4.588214e+06  4595000.0   98527.854413   \n",
       "5              2  27070000  3.867143e+06  3872500.0  120816.911856   \n",
       "6              3  26577500  3.796786e+06  3795000.0  113143.661313   \n",
       "7              4  26437500  3.776786e+06  3735000.0  110299.915814   \n",
       "8              5  19390000  3.231667e+06  3081250.0  471133.385218   \n",
       "9              6  20910000  2.987143e+06  2992500.0  127625.988173   \n",
       "10             7  21545000  3.077857e+06  3060000.0  131501.176891   \n",
       "11             8  21110000  3.015714e+06  3022500.0  107312.960208   \n",
       "12             9  24382500  3.483214e+06  3075000.0  709927.687464   \n",
       "\n",
       "             var      min      max  \n",
       "0   1.087173e+10  3712500  3960000  \n",
       "1   4.496190e+10  4060000  4655000  \n",
       "2   2.842381e+10  4327500  4765000  \n",
       "3   1.014107e+10  4335000  4635000  \n",
       "4   9.707738e+09  4390000  4715000  \n",
       "5   1.459673e+10  3645000  4005000  \n",
       "6   1.280149e+10  3652500  3960000  \n",
       "7   1.216607e+10  3662500  3977500  \n",
       "8   2.219667e+11  2725000  3822500  \n",
       "9   1.628839e+10  2835000  3210000  \n",
       "10  1.729256e+10  2877500  3290000  \n",
       "11  1.151607e+10  2867500  3185000  \n",
       "12  5.039973e+11  2982500  4565000  "
      ]
     },
     "execution_count": 42,
     "metadata": {},
     "output_type": "execute_result"
    }
   ],
   "source": [
    "weekly_sales_reports=weekly_reports['Sales'].reset_index()\n",
    "weekly_sales_reports"
   ]
  },
  {
   "cell_type": "code",
   "execution_count": 43,
   "id": "f4d16710-f1b8-4211-b1dc-4b4c55abd5c7",
   "metadata": {},
   "outputs": [
    {
     "name": "stderr",
     "output_type": "stream",
     "text": [
      "No artists with labels found to put in legend.  Note that artists whose label start with an underscore are ignored when legend() is called with no argument.\n"
     ]
    },
    {
     "data": {
      "image/png": "[encoded data removed]",
      "text/plain": [
       "<Figure size 432x288 with 1 Axes>"
      ]
     },
     "metadata": {
      "needs_background": "light"
     },
     "output_type": "display_data"
    }
   ],
   "source": [
    "sns.barplot(data=weekly_sales_reports,x='Week_category',y='sum')\n",
    "plt.legend()\n",
    "plt.show()"
   ]
  },
  {
   "cell_type": "code",
   "execution_count": 44,
   "id": "b4917ed5-19bd-4056-8fcb-40e6eded21f2",
   "metadata": {},
   "outputs": [
    {
     "name": "stderr",
     "output_type": "stream",
     "text": [
      "No artists with labels found to put in legend.  Note that artists whose label start with an underscore are ignored when legend() is called with no argument.\n"
     ]
    },
    {
     "data": {
      "image/png": "[encoded data removed]",
      "text/plain": [
       "<Figure size 432x288 with 1 Axes>"
      ]
     },
     "metadata": {
      "needs_background": "light"
     },
     "output_type": "display_data"
    }
   ],
   "source": [
    "sns.barplot(data=weekly_sales_reports,x='Week_category',y='mean')\n",
    "plt.legend()\n",
    "plt.show()"
   ]
  },
  {
   "cell_type": "code",
   "execution_count": 56,
   "id": "a0772f64-c7c6-44b2-9147-bf54262dbbb7",
   "metadata": {},
   "outputs": [],
   "source": [
    "monthly_report=monthly_report.set_index(['Month_category'])"
   ]
  },
  {
   "cell_type": "code",
   "execution_count": 57,
   "id": "05b505f8-12b3-46c8-afc6-07a4aa1deabf",
   "metadata": {},
   "outputs": [
    {
     "data": {
      "text/html": [
       "<div>\n",
       "<style scoped>\n",
       "    .dataframe tbody tr th:only-of-type {\n",
       "        vertical-align: middle;\n",
       "    }\n",
       "\n",
       "    .dataframe tbody tr th {\n",
       "        vertical-align: top;\n",
       "    }\n",
       "\n",
       "    .dataframe thead tr th {\n",
       "        text-align: left;\n",
       "    }\n",
       "\n",
       "    .dataframe thead tr:last-of-type th {\n",
       "        text-align: right;\n",
       "    }\n",
       "</style>\n",
       "<table border=\"1\" class=\"dataframe\">\n",
       "  <thead>\n",
       "    <tr>\n",
       "      <th></th>\n",
       "      <th colspan=\"7\" halign=\"left\">Sales</th>\n",
       "      <th colspan=\"7\" halign=\"left\">Unit</th>\n",
       "    </tr>\n",
       "    <tr>\n",
       "      <th></th>\n",
       "      <th>sum</th>\n",
       "      <th>mean</th>\n",
       "      <th>median</th>\n",
       "      <th>min</th>\n",
       "      <th>max</th>\n",
       "      <th>std</th>\n",
       "      <th>var</th>\n",
       "      <th>sum</th>\n",
       "      <th>mean</th>\n",
       "      <th>median</th>\n",
       "      <th>min</th>\n",
       "      <th>max</th>\n",
       "      <th>std</th>\n",
       "      <th>var</th>\n",
       "    </tr>\n",
       "    <tr>\n",
       "      <th>Month_category</th>\n",
       "      <th></th>\n",
       "      <th></th>\n",
       "      <th></th>\n",
       "      <th></th>\n",
       "      <th></th>\n",
       "      <th></th>\n",
       "      <th></th>\n",
       "      <th></th>\n",
       "      <th></th>\n",
       "      <th></th>\n",
       "      <th></th>\n",
       "      <th></th>\n",
       "      <th></th>\n",
       "      <th></th>\n",
       "    </tr>\n",
       "  </thead>\n",
       "  <tbody>\n",
       "    <tr>\n",
       "      <th>1</th>\n",
       "      <td>114290000</td>\n",
       "      <td>3.809667e+06</td>\n",
       "      <td>3798750.0</td>\n",
       "      <td>3645000</td>\n",
       "      <td>4005000</td>\n",
       "      <td>107604.667035</td>\n",
       "      <td>1.157876e+10</td>\n",
       "      <td>45716</td>\n",
       "      <td>1523.866667</td>\n",
       "      <td>1519.5</td>\n",
       "      <td>1458</td>\n",
       "      <td>1602</td>\n",
       "      <td>43.041867</td>\n",
       "      <td>1852.602299</td>\n",
       "    </tr>\n",
       "    <tr>\n",
       "      <th>2</th>\n",
       "      <td>87647500</td>\n",
       "      <td>3.022328e+06</td>\n",
       "      <td>3022500.0</td>\n",
       "      <td>2725000</td>\n",
       "      <td>3290000</td>\n",
       "      <td>130186.903820</td>\n",
       "      <td>1.694863e+10</td>\n",
       "      <td>35059</td>\n",
       "      <td>1208.931034</td>\n",
       "      <td>1209.0</td>\n",
       "      <td>1090</td>\n",
       "      <td>1316</td>\n",
       "      <td>52.074762</td>\n",
       "      <td>2711.780788</td>\n",
       "    </tr>\n",
       "    <tr>\n",
       "      <th>3</th>\n",
       "      <td>138365000</td>\n",
       "      <td>4.463387e+06</td>\n",
       "      <td>4505000.0</td>\n",
       "      <td>3035000</td>\n",
       "      <td>4765000</td>\n",
       "      <td>305010.620298</td>\n",
       "      <td>9.303148e+10</td>\n",
       "      <td>55346</td>\n",
       "      <td>1785.354839</td>\n",
       "      <td>1802.0</td>\n",
       "      <td>1214</td>\n",
       "      <td>1906</td>\n",
       "      <td>122.004248</td>\n",
       "      <td>14885.036559</td>\n",
       "    </tr>\n",
       "  </tbody>\n",
       "</table>\n",
       "</div>"
      ],
      "text/plain": [
       "                    Sales                                             \\\n",
       "                      sum          mean     median      min      max   \n",
       "Month_category                                                         \n",
       "1               114290000  3.809667e+06  3798750.0  3645000  4005000   \n",
       "2                87647500  3.022328e+06  3022500.0  2725000  3290000   \n",
       "3               138365000  4.463387e+06  4505000.0  3035000  4765000   \n",
       "\n",
       "                                              Unit                             \\\n",
       "                          std           var    sum         mean  median   min   \n",
       "Month_category                                                                  \n",
       "1               107604.667035  1.157876e+10  45716  1523.866667  1519.5  1458   \n",
       "2               130186.903820  1.694863e+10  35059  1208.931034  1209.0  1090   \n",
       "3               305010.620298  9.303148e+10  55346  1785.354839  1802.0  1214   \n",
       "\n",
       "                                                \n",
       "                 max         std           var  \n",
       "Month_category                                  \n",
       "1               1602   43.041867   1852.602299  \n",
       "2               1316   52.074762   2711.780788  \n",
       "3               1906  122.004248  14885.036559  "
      ]
     },
     "execution_count": 57,
     "metadata": {},
     "output_type": "execute_result"
    }
   ],
   "source": [
    "monthly_report\n"
   ]
  },
  {
   "cell_type": "code",
   "execution_count": 58,
   "id": "f8c7dffa-403e-4c7f-91ae-58bdf79b371c",
   "metadata": {},
   "outputs": [
    {
     "data": {
      "text/html": [
       "<div>\n",
       "<style scoped>\n",
       "    .dataframe tbody tr th:only-of-type {\n",
       "        vertical-align: middle;\n",
       "    }\n",
       "\n",
       "    .dataframe tbody tr th {\n",
       "        vertical-align: top;\n",
       "    }\n",
       "\n",
       "    .dataframe thead th {\n",
       "        text-align: right;\n",
       "    }\n",
       "</style>\n",
       "<table border=\"1\" class=\"dataframe\">\n",
       "  <thead>\n",
       "    <tr style=\"text-align: right;\">\n",
       "      <th></th>\n",
       "      <th>Month_category</th>\n",
       "      <th>sum</th>\n",
       "      <th>mean</th>\n",
       "      <th>median</th>\n",
       "      <th>min</th>\n",
       "      <th>max</th>\n",
       "      <th>std</th>\n",
       "      <th>var</th>\n",
       "    </tr>\n",
       "  </thead>\n",
       "  <tbody>\n",
       "    <tr>\n",
       "      <th>0</th>\n",
       "      <td>1</td>\n",
       "      <td>114290000</td>\n",
       "      <td>3.809667e+06</td>\n",
       "      <td>3798750.0</td>\n",
       "      <td>3645000</td>\n",
       "      <td>4005000</td>\n",
       "      <td>107604.667035</td>\n",
       "      <td>1.157876e+10</td>\n",
       "    </tr>\n",
       "    <tr>\n",
       "      <th>1</th>\n",
       "      <td>2</td>\n",
       "      <td>87647500</td>\n",
       "      <td>3.022328e+06</td>\n",
       "      <td>3022500.0</td>\n",
       "      <td>2725000</td>\n",
       "      <td>3290000</td>\n",
       "      <td>130186.903820</td>\n",
       "      <td>1.694863e+10</td>\n",
       "    </tr>\n",
       "    <tr>\n",
       "      <th>2</th>\n",
       "      <td>3</td>\n",
       "      <td>138365000</td>\n",
       "      <td>4.463387e+06</td>\n",
       "      <td>4505000.0</td>\n",
       "      <td>3035000</td>\n",
       "      <td>4765000</td>\n",
       "      <td>305010.620298</td>\n",
       "      <td>9.303148e+10</td>\n",
       "    </tr>\n",
       "  </tbody>\n",
       "</table>\n",
       "</div>"
      ],
      "text/plain": [
       "  Month_category        sum          mean     median      min      max  \\\n",
       "0              1  114290000  3.809667e+06  3798750.0  3645000  4005000   \n",
       "1              2   87647500  3.022328e+06  3022500.0  2725000  3290000   \n",
       "2              3  138365000  4.463387e+06  4505000.0  3035000  4765000   \n",
       "\n",
       "             std           var  \n",
       "0  107604.667035  1.157876e+10  \n",
       "1  130186.903820  1.694863e+10  \n",
       "2  305010.620298  9.303148e+10  "
      ]
     },
     "execution_count": 58,
     "metadata": {},
     "output_type": "execute_result"
    }
   ],
   "source": [
    "monthly_sales_report=monthly_report['Sales'].reset_index()\n",
    "monthly_sales_report"
   ]
  },
  {
   "cell_type": "code",
   "execution_count": 59,
   "id": "e1a4ea98-db20-4b7a-9ffd-fb778ccb1aa0",
   "metadata": {},
   "outputs": [
    {
     "name": "stderr",
     "output_type": "stream",
     "text": [
      "No artists with labels found to put in legend.  Note that artists whose label start with an underscore are ignored when legend() is called with no argument.\n"
     ]
    },
    {
     "data": {
      "image/png": "[encoded data removed]",
      "text/plain": [
       "<Figure size 432x288 with 1 Axes>"
      ]
     },
     "metadata": {
      "needs_background": "light"
     },
     "output_type": "display_data"
    }
   ],
   "source": [
    "sns.barplot(data=monthly_sales_report,x='Month_category',y='sum')\n",
    "plt.legend()\n",
    "plt.show()"
   ]
  },
  {
   "cell_type": "code",
   "execution_count": 60,
   "id": "07dd104d-5d54-4c11-8cfb-26ae356aabdc",
   "metadata": {},
   "outputs": [
    {
     "name": "stderr",
     "output_type": "stream",
     "text": [
      "No artists with labels found to put in legend.  Note that artists whose label start with an underscore are ignored when legend() is called with no argument.\n"
     ]
    },
    {
     "data": {
      "image/png": "[encoded data removed]",
      "text/plain": [
       "<Figure size 432x288 with 1 Axes>"
      ]
     },
     "metadata": {
      "needs_background": "light"
     },
     "output_type": "display_data"
    }
   ],
   "source": [
    "sns.barplot(data=monthly_sales_report,x='Month_category',y='mean')\n",
    "plt.legend()\n",
    "plt.show()"
   ]
  },
  {
   "cell_type": "markdown",
   "id": "3c670f47-4359-4fe8-9e5f-cdb6e3459aff",
   "metadata": {},
   "source": [
    "Maximum Sales happens in month of December\n"
   ]
  },
  {
   "cell_type": "code",
   "execution_count": null,
   "id": "3bdb887e-9aa4-4d67-bef9-2bb06281cc52",
   "metadata": {},
   "outputs": [],
   "source": []
  }
 ],
 "metadata": {
  "kernelspec": {
   "display_name": "Python 3 [3.10]",
   "language": "python",
   "name": "python3"
  },
  "language_info": {
   "codemirror_mode": {
    "name": "ipython",
    "version": 3
   },
   "file_extension": ".py",
   "mimetype": "text/x-python",
   "name": "python",
   "nbconvert_exporter": "python",
   "pygments_lexer": "ipython3",
   "version": "3.10.2"
  }
 },
 "nbformat": 4,
 "nbformat_minor": 5
}
